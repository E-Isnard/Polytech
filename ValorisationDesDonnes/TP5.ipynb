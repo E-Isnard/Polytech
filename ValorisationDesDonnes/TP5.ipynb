{
 "metadata": {
  "language_info": {
   "codemirror_mode": {
    "name": "ipython",
    "version": 3
   },
   "file_extension": ".py",
   "mimetype": "text/x-python",
   "name": "python",
   "nbconvert_exporter": "python",
   "pygments_lexer": "ipython3",
   "version": "3.8.1-final"
  },
  "orig_nbformat": 2,
  "kernelspec": {
   "name": "ir",
   "display_name": "R",
   "language": "R"
  }
 },
 "nbformat": 4,
 "nbformat_minor": 2,
 "cells": [
  {
   "source": [
    "# TP 5 Valorisation des données: Régression logistique"
   ],
   "cell_type": "markdown",
   "metadata": {}
  },
  {
   "cell_type": "code",
   "execution_count": 46,
   "metadata": {},
   "outputs": [
    {
     "output_type": "stream",
     "name": "stdout",
     "text": [
      "  [1] 1 1 1 1 1 1 1 0 1 1 1 1 1 0 0 1 1 1 1 1 1 1 1 1 0 1 1 1 0 1 1 0 0 0 1 1 1\n [38] 1 0 1 0 0 1 0 0 1 0 0 1 1 1 0 1 0 1 0 1 0 1 1 1 0 1 0 1 0 1 1 0 1 1 1 1 1\n [75] 1 1 0 1 1 0 0 1 1 0 1 1 1 0 1 0 1 0 1 0 0 0 0 1 1 1\n"
     ]
    }
   ],
   "source": [
    "x <- rnorm(100,1/2,1.2)\n",
    "x2 <- rnorm(100,1.1,1.2)\n",
    "\n",
    "logistic <- function(beta0,beta1,x){\n",
    "    return(1/(1+exp(-beta0-beta1*x)))\n",
    "}\n",
    "# logistic(0.3,1.7,x)\n",
    "y = rbinom(100,1,logistic(0.3,1.7,x))\n",
    "y2 = rbinom(100,1,logistic(0.3,1.7,x2))\n",
    "# y = as.integer(logistic(0.3,1.7,x)>=1/2)\n",
    "print(y)\n"
   ]
  },
  {
   "cell_type": "code",
   "execution_count": 51,
   "metadata": {},
   "outputs": [
    {
     "output_type": "display_data",
     "data": {
      "text/html": "<style>\n.list-inline {list-style: none; margin:0; padding: 0}\n.list-inline>li {display: inline-block}\n.list-inline>li:not(:last-child)::after {content: \"\\00b7\"; padding: 0 .5ex}\n</style>\n<ol class=list-inline><li>0.211852455896908</li><li>1.44707972051688</li></ol>\n",
      "text/markdown": "1. 0.211852455896908\n2. 1.44707972051688\n\n\n",
      "text/latex": "\\begin{enumerate*}\n\\item 0.211852455896908\n\\item 1.44707972051688\n\\end{enumerate*}\n",
      "text/plain": "[1] 0.2118525 1.4470797"
     },
     "metadata": {}
    }
   ],
   "source": [
    "m = 300\n",
    "gamma=0.01\n",
    "beta = c(0,0)\n",
    "for(t in 1:m){\n",
    "    p <- logistic(beta[1],beta[2],x)\n",
    "    beta[1] <- beta[1] + gamma*sum((y-p))\n",
    "    beta[2] <- beta[2] + gamma*sum((y-p)*x)\n",
    "}\n",
    "beta"
   ]
  }
 ]
}