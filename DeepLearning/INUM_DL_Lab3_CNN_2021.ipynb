{
  "cells": [
    {
      "cell_type": "markdown",
      "metadata": {
        "id": "TIAbOXUgsXCG"
      },
      "source": [
        "# Lab 3: Convolutional Neural Network"
      ]
    },
    {
      "cell_type": "markdown",
      "metadata": {
        "id": "gtBkaur_mwPQ"
      },
      "source": [
        "# Training a Classifier\n",
        "\n",
        "\n",
        "**What about data?**\n",
        "\n",
        "\n",
        "Generally, when you have to deal with image, text, audio or video data,\n",
        "you can use standard python packages that load data into a numpy array.\n",
        "Then you can convert this array into a ``torch.*Tensor``.\n",
        "\n",
        "-  For images, packages such as Pillow, OpenCV are useful\n",
        "-  For audio, packages such as scipy and librosa\n",
        "-  For text, either raw Python or Cython based loading, or NLTK and\n",
        "   SpaCy are useful\n",
        "\n",
        "Specifically for vision, Pytorch team has created a package called\n",
        "``torchvision``, that has data loaders for common datasets such as\n",
        "Imagenet, CIFAR10, MNIST, etc. and data transformers for images, viz.,\n",
        "``torchvision.datasets`` and ``torch.utils.data.DataLoader``.\n",
        "\n",
        "This provides a huge convenience and avoids writing boilerplate code.\n",
        "\n",
        "For this tutorial, we will use the CIFAR10 dataset.\n",
        "It has the classes: ‘airplane’, ‘automobile’, ‘bird’, ‘cat’, ‘deer’,\n",
        "‘dog’, ‘frog’, ‘horse’, ‘ship’, ‘truck’. The images in CIFAR-10 are of\n",
        "size 3x32x32, i.e. 3-channel color images of 32x32 pixels in size.\n",
        "\n",
        "\n",
        "   ![cifar10](https://miro.medium.com/max/1648/1*SZnidBt7CQ4Xqcag6rd8Ew.png)\n",
        "\n",
        "\n"
      ]
    },
    {
      "cell_type": "markdown",
      "metadata": {
        "id": "qBMuIZjPRSwV"
      },
      "source": [
        "# How to use Dataset and DataLoader?"
      ]
    },
    {
      "cell_type": "markdown",
      "metadata": {
        "id": "UYxvilmtRS1D"
      },
      "source": [
        "## Data Loading"
      ]
    },
    {
      "cell_type": "markdown",
      "metadata": {
        "id": "kTI5KIOXRS4Q"
      },
      "source": [
        "For convenience, PyTorch provides a number of utilities to load, preprocess and interact with datasets. These helper classes and functions are found in the torch.utils.data module. The two major concepts here are:\n",
        "\n",
        "\n",
        "\n",
        "1.   A Dataset, which encapsulates a source of data,\n",
        "2.   A DataLoader, which is responsible for loading a dataset, possibly in parallel.\n",
        "\n"
      ]
    },
    {
      "cell_type": "markdown",
      "metadata": {
        "id": "qgegVUtsRizA"
      },
      "source": [
        "New datasets are created by subclassing the torch.utils.data.Dataset class and overriding the \\_\\_len__ method to return the number of samples in the dataset and the \\_\\_getitem__ method to access a single value at a certain index. \n",
        "​\n",
        "For example, this would be a simple dataset encapsulating a range of integers:"
      ]
    },
    {
      "cell_type": "code",
      "execution_count": 75,
      "metadata": {
        "id": "bOoxqt147pAM"
      },
      "outputs": [],
      "source": [
        "import math\n",
        "import torch\n",
        "\n",
        "class RangeDataset(torch.utils.data.Dataset):\n",
        "  def __init__(self, start, end, step=1):\n",
        "    self.start = start\n",
        "    self.end = end\n",
        "    self.step = step\n",
        "\n",
        "  def __len__(self):\n",
        "    return math.ceil((self.end - self.start) / self.step)\n",
        "\n",
        "  def __getitem__(self, index):\n",
        "    value = self.start + index * self.step\n",
        "    assert value < self.end\n",
        "    return value"
      ]
    },
    {
      "cell_type": "markdown",
      "metadata": {
        "id": "GeKseT00RpKU"
      },
      "source": [
        "Inside \\_\\_init__ we would usually configure some paths or change the set of samples ultimately returned. \n",
        "\n",
        "In \\_\\_len__, we specify the upper bound for the index with which \\_\\_getitem__ may be called.\n",
        "\n",
        "In \\_\\_getitem__ we return the actual sample, which could be an image or an audio snippet."
      ]
    },
    {
      "cell_type": "code",
      "execution_count": 76,
      "metadata": {
        "id": "XUwUAiJu7omE"
      },
      "outputs": [
        {
          "name": "stdout",
          "output_type": "stream",
          "text": [
            "5\n"
          ]
        }
      ],
      "source": [
        "dataset = RangeDataset(0, 10, 2)\n",
        "print(len(dataset))"
      ]
    },
    {
      "cell_type": "markdown",
      "metadata": {
        "id": "2h6K3PmbRtAR"
      },
      "source": [
        "## DataLoader\n",
        "\n",
        "To iterate over the dataset we could, in theory, simply have a for i in range loop and access samples via \\_\\_getitem__. However, it would be much more convenient if the dataset implemented the iterator protocol itself, so we could simply loop over samples with for sample in dataset. Fortunately, this functionality is provided by the DataLoader class. \n",
        "\n",
        "A DataLoader object takes a dataset and a number of options that configure the way samples are retrieved. For example, it is possible to load samples in parallel, using multiple processes. For this, the DataLoader constructor takes a num_workers argument. Note that DataLoaders always return batches, whose size is set with the batch_size parameter. Here is a simple example:\n",
        "\n"
      ]
    },
    {
      "cell_type": "code",
      "execution_count": 77,
      "metadata": {
        "id": "Z9uwLC2OR1fB"
      },
      "outputs": [
        {
          "name": "stdout",
          "output_type": "stream",
          "text": [
            "0 tensor([4, 1, 7, 8])\n",
            "1 tensor([3, 2, 6, 5])\n"
          ]
        }
      ],
      "source": [
        "dataset = RangeDataset(0, 9)\n",
        "data_loader = torch.utils.data.DataLoader(\n",
        "    dataset, \n",
        "    batch_size=4, \n",
        "    shuffle=True,  # set to True to have the data reshuffled at every epoch\n",
        "    num_workers=0, # how many subprocesses to use for data loading\n",
        "    drop_last=True # set to True to drop the last incomplete batch, if the dataset size is not divisible by the batch size.\n",
        "  )\n",
        "\n",
        "for i, batch in enumerate(data_loader):\n",
        "  print(i, batch)"
      ]
    },
    {
      "cell_type": "markdown",
      "metadata": {
        "id": "RYlJQOZrRtDw"
      },
      "source": [
        "Use an iterator\n",
        "\n",
        "See details [here](https://pytorch.org/docs/stable/data.html#torch.utils.data.IterableDataset)"
      ]
    },
    {
      "cell_type": "code",
      "execution_count": 78,
      "metadata": {
        "id": "RhhyvxEcR-Zs"
      },
      "outputs": [
        {
          "name": "stdout",
          "output_type": "stream",
          "text": [
            "0\n",
            "1\n",
            "2\n"
          ]
        }
      ],
      "source": [
        "dataset_iter = iter(dataset)\n",
        "print(next(dataset_iter))\n",
        "print(next(dataset_iter))\n",
        "print(next(dataset_iter))"
      ]
    },
    {
      "cell_type": "code",
      "execution_count": 79,
      "metadata": {
        "id": "TfrOJoLsSBkl"
      },
      "outputs": [
        {
          "name": "stdout",
          "output_type": "stream",
          "text": [
            "0\n",
            "1\n",
            "2\n",
            "3\n",
            "4\n",
            "5\n",
            "6\n",
            "7\n",
            "8\n"
          ]
        }
      ],
      "source": [
        "dataset_iter = iter(dataset)\n",
        "for i in range(len(dataset)):\n",
        "  element = next(iter(dataset_iter))\n",
        "  print(element)"
      ]
    },
    {
      "cell_type": "markdown",
      "metadata": {
        "id": "4N9FdSkbSoLQ"
      },
      "source": [
        "# Training an image classifier\n",
        "\n",
        "\n",
        "We will do the following steps in order:\n",
        "\n",
        "1. Load and normalizing the CIFAR10 training and test datasets using\n",
        "   ``torchvision``\n",
        "2. Define a Convolutional Neural Network\n",
        "3. Define a loss function\n",
        "4. Train the network on the training data\n",
        "5. Test the network on the test data\n",
        "\n",
        "1. Loading and normalizing CIFAR10\n",
        "\n",
        "\n",
        "Using ``torchvision``, it’s extremely easy to load CIFAR10.\n",
        "\n",
        "\n"
      ]
    },
    {
      "cell_type": "code",
      "execution_count": 80,
      "metadata": {
        "id": "6ipT2HN5mwPL"
      },
      "outputs": [],
      "source": [
        "%matplotlib inline"
      ]
    },
    {
      "cell_type": "code",
      "execution_count": 81,
      "metadata": {
        "id": "7E_ryflKmwPR"
      },
      "outputs": [],
      "source": [
        "import torch\n",
        "import torchvision\n",
        "import torchvision.transforms as transforms"
      ]
    },
    {
      "cell_type": "markdown",
      "metadata": {
        "id": "Pwgsi7KoqQs6"
      },
      "source": [
        "## 1- Load and normalizing the CIFAR10 training and test datasets using ``torchvision``"
      ]
    },
    {
      "cell_type": "markdown",
      "metadata": {
        "id": "y_nODc6EmwPU"
      },
      "source": [
        "The output of torchvision datasets are PILImage images of range [0, 1].\n",
        "We transform them to Tensors of normalized range [-1, 1].\n",
        "\n"
      ]
    },
    {
      "cell_type": "code",
      "execution_count": 82,
      "metadata": {
        "id": "J1ICv1kcmwPV"
      },
      "outputs": [
        {
          "name": "stdout",
          "output_type": "stream",
          "text": [
            "Files already downloaded and verified\n",
            "Files already downloaded and verified\n"
          ]
        }
      ],
      "source": [
        "transform = transforms.Compose(\n",
        "    [transforms.ToTensor(),\n",
        "     transforms.Normalize((0.5, 0.5, 0.5), (0.5, 0.5, 0.5))])\n",
        "\n",
        "batch_size = 100\n",
        "\n",
        "trainset = torchvision.datasets.CIFAR10(root='./data', train=True,\n",
        "                                        download=True, transform=transform)\n",
        "trainloader = torch.utils.data.DataLoader(trainset, batch_size=batch_size,\n",
        "                                          shuffle=True, num_workers=2)\n",
        "\n",
        "testset = torchvision.datasets.CIFAR10(root='./data', train=False,\n",
        "                                       download=True, transform=transform)\n",
        "testloader = torch.utils.data.DataLoader(testset, batch_size=batch_size,\n",
        "                                         shuffle=False, num_workers=2)\n",
        "\n",
        "classes = ('plane', 'car', 'bird', 'cat',\n",
        "           'deer', 'dog', 'frog', 'horse', 'ship', 'truck')"
      ]
    },
    {
      "cell_type": "code",
      "execution_count": 83,
      "metadata": {
        "id": "ES5OeupEsXCW"
      },
      "outputs": [
        {
          "name": "stdout",
          "output_type": "stream",
          "text": [
            "Size of a training batch: 100\n",
            "Number of training batches: 500\n",
            "Size of a test batch: 100\n",
            "Number of test batches: 100\n"
          ]
        }
      ],
      "source": [
        "print('Size of a training batch: {}'.format(trainloader.batch_size))\n",
        "print('Number of training batches: {}'.format(len(trainloader)))\n",
        "print('Size of a test batch: {}'.format(testloader.batch_size))\n",
        "print('Number of test batches: {}'.format(len(testloader)))"
      ]
    },
    {
      "cell_type": "markdown",
      "metadata": {
        "id": "zmG2EX-GDRaZ"
      },
      "source": [
        "See the location of the downloaded data"
      ]
    },
    {
      "cell_type": "code",
      "execution_count": 84,
      "metadata": {
        "id": "CMjUo43nC_sl"
      },
      "outputs": [
        {
          "name": "stdout",
          "output_type": "stream",
          "text": [
            " Le volume dans le lecteur C s'appelle OS\n",
            " Le num�ro de s�rie du volume est 5804-9598\n",
            "\n",
            " R�pertoire de c:\\Users\\enzoi\\Documents\\Polytech\\DeepLearning\n",
            "\n"
          ]
        },
        {
          "name": "stderr",
          "output_type": "stream",
          "text": [
            "Fichier introuvable\n",
            "Le format du param�tre est incorrect - \"data\".\n",
            "Le format du param�tre est incorrect - \"data\".\n"
          ]
        }
      ],
      "source": [
        "%pwd\n",
        "%ls -l\n",
        "%ls -l ./data\n",
        "%ls -l ./data/cifar-10-batches-py/"
      ]
    },
    {
      "cell_type": "markdown",
      "metadata": {
        "id": "JfFh3I32mwPY"
      },
      "source": [
        "Let us show some of the training images, for fun.\n",
        "\n"
      ]
    },
    {
      "cell_type": "code",
      "execution_count": 85,
      "metadata": {
        "id": "HeN57Pz3mwPZ"
      },
      "outputs": [
        {
          "data": {
            "image/png": "[encoded data removed]",
            "text/plain": [
              "<Figure size 432x288 with 1 Axes>"
            ]
          },
          "metadata": {
            "needs_background": "light"
          },
          "output_type": "display_data"
        },
        {
          "name": "stdout",
          "output_type": "stream",
          "text": [
            "  car  frog horse  bird\n"
          ]
        }
      ],
      "source": [
        "import matplotlib.pyplot as plt\n",
        "import numpy as np\n",
        "\n",
        "# functions to show an image\n",
        "def imshow(img):\n",
        "    img = img / 2 + 0.5     # unnormalize\n",
        "    npimg = img.numpy()\n",
        "    plt.imshow(np.transpose(npimg, (1, 2, 0)))\n",
        "    plt.show()\n",
        "\n",
        "\n",
        "# get some random training images\n",
        "dataiter = iter(trainloader)\n",
        "images, labels = dataiter.next()\n",
        "\n",
        "# show images\n",
        "imshow(torchvision.utils.make_grid(images))\n",
        "# print labels\n",
        "print(' '.join('%5s' % classes[labels[j]] for j in range(4)))"
      ]
    },
    {
      "cell_type": "markdown",
      "metadata": {
        "id": "Yjp0J6lamwPc"
      },
      "source": [
        "## 2- Define a Convolutional Neural Network\n",
        "\n",
        "\n",
        "Copy the neural network from the Neural Networks section before and modify it to\n",
        "take 3-channel images (instead of 1-channel images as it was defined).\n",
        "\n"
      ]
    },
    {
      "cell_type": "markdown",
      "metadata": {
        "id": "JVRSlGlmzgOn"
      },
      "source": [
        "The following neural network is created as a module. This is the best way to create a customized neural network (automatic differentiation is still working)\n",
        "\n",
        "More information on nn.Module [here](https://pytorch.org/tutorials/beginner/nn_tutorial.html#refactor-using-nn-module)"
      ]
    },
    {
      "cell_type": "markdown",
      "metadata": {
        "id": "1KWwD-AjsXCX"
      },
      "source": [
        "### Question: code the class of the convolutional neural network. \n",
        "\n",
        "The network must work as follows:\n",
        "\n",
        "input -> convolution (kernel 5x5, depth 6) -> relu -> pooling 2D (2x2) -> \n",
        "\n",
        "convolution (kernel 5x5, depth 16) -> relu -> pooling 2D (2x2) -> \n",
        "\n",
        "fully connected layer with 120 neurons -> relu -> \n",
        "\n",
        "fully connected layer with 84 neurons -> relu -> \n",
        "\n",
        "fully connected layer with 10 neurons = output\n",
        "\n",
        "You must replace the keywords \"pass\" by your code in the following cell."
      ]
    },
    {
      "cell_type": "code",
      "execution_count": 86,
      "metadata": {
        "id": "vsPuksk8mwPd"
      },
      "outputs": [],
      "source": [
        "import torch.nn as nn\n",
        "import torch.nn.functional as F\n",
        "\n",
        "\n",
        "class Net(nn.Module):\n",
        "    def __init__(self):\n",
        "        super(Net, self).__init__()\n",
        "        self.sigma = nn.ReLU()\n",
        "        self.f1 = nn.Conv2d(3,6,5)\n",
        "        self.f2 = nn.MaxPool2d(2,2)\n",
        "        self.f3 = nn.Conv2d(6,16,5)\n",
        "        self.f4 = nn.Linear(400,120) \n",
        "        self.f5 = nn.Linear(120,84)\n",
        "        self.f6 = nn.Linear(84,10)\n",
        "        # self.f7 = nn.Softmax(dim=1)\n",
        "\n",
        "    def forward(self, x):\n",
        "        y = self.f2(self.sigma(self.f1(x)))\n",
        "        y = self.f2(self.sigma(self.f3(y)))\n",
        "        y = torch.flatten(y,1)\n",
        "        y = self.sigma(self.f4(y))\n",
        "        y = self.sigma(self.f5(y))\n",
        "        y = self.f6(y)\n",
        "        # y = self.f7(y)\n",
        "        return y\n",
        "\n",
        "\n",
        "net = Net()"
      ]
    },
    {
      "cell_type": "markdown",
      "metadata": {
        "id": "Wi7kBwBQmwPf"
      },
      "source": [
        "## 3- Define a Loss function and optimizer\n",
        "\n",
        "\n",
        "Let's use a Classification Cross-Entropy loss and SGD with momentum.\n",
        "\n"
      ]
    },
    {
      "cell_type": "markdown",
      "metadata": {
        "id": "ligly1PKsoCS"
      },
      "source": [
        "### Question: define the criterion (choose the appropriate one) and define the optimizer (SGD with an appropriate learning rate).\n"
      ]
    },
    {
      "cell_type": "code",
      "execution_count": 87,
      "metadata": {
        "id": "L5OT6LRmmwPf"
      },
      "outputs": [],
      "source": [
        "import torch.optim as optim\n",
        "\n",
        "criterion = nn.CrossEntropyLoss()\n",
        "optimizer = optim.SGD(net.parameters(),lr=1e-2,momentum=0.8)"
      ]
    },
    {
      "cell_type": "markdown",
      "metadata": {
        "id": "esXyBObZmwPh"
      },
      "source": [
        "## 4- Train the network\n",
        "\n",
        "\n",
        "\n",
        "This is when things start to get interesting.\n",
        "We simply have to loop over our data iterator, and feed the inputs to the\n",
        "network and optimize.\n",
        "\n"
      ]
    },
    {
      "cell_type": "markdown",
      "metadata": {
        "id": "PQ1w4chdwsr4"
      },
      "source": [
        "### Question: code the training of the network. Use the autograd mechanism and the optimizer.\n",
        "\n",
        "Compute and print the running loss each time \"Nprint\" batches have been processed, i.e., compute and print the average of the loss over the \"Nprint\" mini-batches.\n",
        "\n",
        "You must replace the keywords \"pass\" by your code in the following cell."
      ]
    },
    {
      "cell_type": "code",
      "execution_count": 88,
      "metadata": {
        "id": "kSVsCRB8mwPi"
      },
      "outputs": [
        {
          "name": "stdout",
          "output_type": "stream",
          "text": [
            "\tepoch 0\t|\tstep: 99\t|\t loss: 2.2987618446350098\n",
            "\tepoch 0\t|\tstep: 199\t|\t loss: 2.265345811843872\n",
            "\tepoch 0\t|\tstep: 299\t|\t loss: 2.1052846908569336\n",
            "\tepoch 0\t|\tstep: 399\t|\t loss: 1.956784963607788\n",
            "\tepoch 0\t|\tstep: 499\t|\t loss: 1.828049659729004\n",
            "\tepoch 1\t|\tstep: 99\t|\t loss: 1.6433247327804565\n",
            "\tepoch 1\t|\tstep: 199\t|\t loss: 1.6719114780426025\n",
            "\tepoch 1\t|\tstep: 299\t|\t loss: 1.5955702066421509\n",
            "\tepoch 1\t|\tstep: 399\t|\t loss: 1.5368945598602295\n",
            "\tepoch 1\t|\tstep: 499\t|\t loss: 1.5220011472702026\n",
            "\tepoch 2\t|\tstep: 99\t|\t loss: 1.485792636871338\n",
            "\tepoch 2\t|\tstep: 199\t|\t loss: 1.5604263544082642\n",
            "\tepoch 2\t|\tstep: 299\t|\t loss: 1.6269314289093018\n",
            "\tepoch 2\t|\tstep: 399\t|\t loss: 1.3765602111816406\n",
            "\tepoch 2\t|\tstep: 499\t|\t loss: 1.3919150829315186\n",
            "\tepoch 3\t|\tstep: 99\t|\t loss: 1.3447849750518799\n",
            "\tepoch 3\t|\tstep: 199\t|\t loss: 1.4226281642913818\n",
            "\tepoch 3\t|\tstep: 299\t|\t loss: 1.3198797702789307\n",
            "\tepoch 3\t|\tstep: 399\t|\t loss: 1.1579803228378296\n",
            "\tepoch 3\t|\tstep: 499\t|\t loss: 1.2808979749679565\n",
            "\tepoch 4\t|\tstep: 99\t|\t loss: 1.31516432762146\n",
            "\tepoch 4\t|\tstep: 199\t|\t loss: 1.2982913255691528\n",
            "\tepoch 4\t|\tstep: 299\t|\t loss: 1.3237724304199219\n",
            "\tepoch 4\t|\tstep: 399\t|\t loss: 1.249721884727478\n",
            "\tepoch 4\t|\tstep: 499\t|\t loss: 1.3822475671768188\n",
            "\tepoch 5\t|\tstep: 99\t|\t loss: 1.3315744400024414\n",
            "\tepoch 5\t|\tstep: 199\t|\t loss: 1.4085849523544312\n",
            "\tepoch 5\t|\tstep: 299\t|\t loss: 1.2178188562393188\n",
            "\tepoch 5\t|\tstep: 399\t|\t loss: 1.2695326805114746\n",
            "\tepoch 5\t|\tstep: 499\t|\t loss: 1.0658442974090576\n",
            "\tepoch 6\t|\tstep: 99\t|\t loss: 1.1792314052581787\n",
            "\tepoch 6\t|\tstep: 199\t|\t loss: 1.3123077154159546\n",
            "\tepoch 6\t|\tstep: 299\t|\t loss: 1.1590285301208496\n",
            "\tepoch 6\t|\tstep: 399\t|\t loss: 1.0169931650161743\n",
            "\tepoch 6\t|\tstep: 499\t|\t loss: 1.1153641939163208\n",
            "\tepoch 7\t|\tstep: 99\t|\t loss: 0.9886927604675293\n",
            "\tepoch 7\t|\tstep: 199\t|\t loss: 0.8740320801734924\n",
            "\tepoch 7\t|\tstep: 299\t|\t loss: 1.0572388172149658\n",
            "\tepoch 7\t|\tstep: 399\t|\t loss: 1.1121189594268799\n",
            "\tepoch 7\t|\tstep: 499\t|\t loss: 1.1143447160720825\n",
            "\tepoch 8\t|\tstep: 99\t|\t loss: 1.0648216009140015\n",
            "\tepoch 8\t|\tstep: 199\t|\t loss: 1.10463285446167\n",
            "\tepoch 8\t|\tstep: 299\t|\t loss: 0.9352254271507263\n",
            "\tepoch 8\t|\tstep: 399\t|\t loss: 1.1388213634490967\n",
            "\tepoch 8\t|\tstep: 499\t|\t loss: 1.018061876296997\n",
            "\tepoch 9\t|\tstep: 99\t|\t loss: 1.071098804473877\n",
            "\tepoch 9\t|\tstep: 199\t|\t loss: 1.0875346660614014\n",
            "\tepoch 9\t|\tstep: 299\t|\t loss: 0.9021143913269043\n",
            "\tepoch 9\t|\tstep: 399\t|\t loss: 1.1848622560501099\n",
            "\tepoch 9\t|\tstep: 499\t|\t loss: 0.9876057505607605\n",
            "\tepoch 10\t|\tstep: 99\t|\t loss: 0.9963592290878296\n",
            "\tepoch 10\t|\tstep: 199\t|\t loss: 0.7823595404624939\n",
            "\tepoch 10\t|\tstep: 299\t|\t loss: 0.9946563839912415\n",
            "\tepoch 10\t|\tstep: 399\t|\t loss: 0.8886638879776001\n",
            "\tepoch 10\t|\tstep: 499\t|\t loss: 0.8519701361656189\n",
            "\tepoch 11\t|\tstep: 99\t|\t loss: 0.9623520374298096\n",
            "\tepoch 11\t|\tstep: 199\t|\t loss: 0.9745271801948547\n",
            "\tepoch 11\t|\tstep: 299\t|\t loss: 1.1730157136917114\n",
            "\tepoch 11\t|\tstep: 399\t|\t loss: 0.9128041863441467\n",
            "\tepoch 11\t|\tstep: 499\t|\t loss: 1.0287880897521973\n",
            "\tepoch 12\t|\tstep: 99\t|\t loss: 0.8877204060554504\n",
            "\tepoch 12\t|\tstep: 199\t|\t loss: 0.7875691056251526\n",
            "\tepoch 12\t|\tstep: 299\t|\t loss: 0.9446389675140381\n",
            "\tepoch 12\t|\tstep: 399\t|\t loss: 1.020706295967102\n",
            "\tepoch 12\t|\tstep: 499\t|\t loss: 1.0026241540908813\n",
            "\tepoch 13\t|\tstep: 99\t|\t loss: 0.8975932598114014\n",
            "\tepoch 13\t|\tstep: 199\t|\t loss: 0.9089195132255554\n",
            "\tepoch 13\t|\tstep: 299\t|\t loss: 0.9346730709075928\n",
            "\tepoch 13\t|\tstep: 399\t|\t loss: 0.8296397924423218\n",
            "\tepoch 13\t|\tstep: 499\t|\t loss: 1.0557342767715454\n",
            "\tepoch 14\t|\tstep: 99\t|\t loss: 0.9074337482452393\n",
            "\tepoch 14\t|\tstep: 199\t|\t loss: 0.9628905653953552\n",
            "\tepoch 14\t|\tstep: 299\t|\t loss: 0.93592369556427\n",
            "\tepoch 14\t|\tstep: 399\t|\t loss: 0.9269574880599976\n",
            "\tepoch 14\t|\tstep: 499\t|\t loss: 0.9569501280784607\n",
            "\tepoch 15\t|\tstep: 99\t|\t loss: 0.723162055015564\n",
            "\tepoch 15\t|\tstep: 199\t|\t loss: 0.6754261255264282\n",
            "\tepoch 15\t|\tstep: 299\t|\t loss: 0.7444913387298584\n",
            "\tepoch 15\t|\tstep: 399\t|\t loss: 0.8387293219566345\n",
            "\tepoch 15\t|\tstep: 499\t|\t loss: 0.7624468803405762\n",
            "\tepoch 16\t|\tstep: 99\t|\t loss: 0.6538519263267517\n",
            "\tepoch 16\t|\tstep: 199\t|\t loss: 0.9322421550750732\n",
            "\tepoch 16\t|\tstep: 299\t|\t loss: 0.9098281860351562\n",
            "\tepoch 16\t|\tstep: 399\t|\t loss: 0.7086710929870605\n",
            "\tepoch 16\t|\tstep: 499\t|\t loss: 0.6174921989440918\n",
            "\tepoch 17\t|\tstep: 99\t|\t loss: 0.5145136117935181\n",
            "\tepoch 17\t|\tstep: 199\t|\t loss: 0.871243417263031\n",
            "\tepoch 17\t|\tstep: 299\t|\t loss: 1.0499460697174072\n",
            "\tepoch 17\t|\tstep: 399\t|\t loss: 0.6712842583656311\n",
            "\tepoch 17\t|\tstep: 499\t|\t loss: 1.0122050046920776\n",
            "\tepoch 18\t|\tstep: 99\t|\t loss: 0.7883428931236267\n",
            "\tepoch 18\t|\tstep: 199\t|\t loss: 0.7550019025802612\n",
            "\tepoch 18\t|\tstep: 299\t|\t loss: 0.7596877217292786\n",
            "\tepoch 18\t|\tstep: 399\t|\t loss: 0.8045138716697693\n",
            "\tepoch 18\t|\tstep: 499\t|\t loss: 0.7298917174339294\n",
            "\tepoch 19\t|\tstep: 99\t|\t loss: 0.6973523497581482\n",
            "\tepoch 19\t|\tstep: 199\t|\t loss: 0.7083418965339661\n",
            "\tepoch 19\t|\tstep: 299\t|\t loss: 0.9438643455505371\n",
            "\tepoch 19\t|\tstep: 399\t|\t loss: 0.7235857248306274\n",
            "\tepoch 19\t|\tstep: 499\t|\t loss: 0.7043746113777161\n",
            "Finished Training\n"
          ]
        }
      ],
      "source": [
        "Nprint = 100\n",
        "\n",
        "nb_epoch = 20\n",
        "\n",
        "for epoch in range(nb_epoch):  # loop over the dataset multiple times\n",
        "\n",
        "    running_loss = 0.0\n",
        "    for i, data in enumerate(trainloader, 0):\n",
        "        optimizer.zero_grad()\n",
        "        x,y = data\n",
        "        y_nn = net(x)\n",
        "        loss = criterion(y_nn,y)\n",
        "        loss.backward()\n",
        "        optimizer.step()\n",
        "\n",
        "        # print statistics\n",
        "        running_loss += loss.item()\n",
        "        if i % Nprint == (Nprint-1):    # print every Nprint mini-batches\n",
        "            print(f\"\\tepoch {epoch}\\t|\\tstep: {i}\\t|\\t loss: {loss}\")\n",
        "        \n",
        "print('Finished Training')"
      ]
    },
    {
      "cell_type": "markdown",
      "metadata": {
        "id": "gBrU407tmwPj"
      },
      "source": [
        "## 5- Test the network on the test data\n",
        "\n",
        "\n",
        "\n",
        "We have trained the network for 2 passes over the training dataset.\n",
        "But we need to check if the network has learnt anything at all.\n",
        "\n",
        "We will check this by predicting the class label that the neural network\n",
        "outputs, and checking it against the ground-truth. If the prediction is\n",
        "correct, we add the sample to the list of correct predictions.\n",
        "\n",
        "Okay, first step. Let us display an image from the test set to get familiar.\n",
        "\n"
      ]
    },
    {
      "cell_type": "code",
      "execution_count": 95,
      "metadata": {
        "id": "JgiIuVnamwPk"
      },
      "outputs": [
        {
          "data": {
            "image/png": "[encoded data removed]",
            "text/plain": [
              "<Figure size 432x288 with 1 Axes>"
            ]
          },
          "metadata": {
            "needs_background": "light"
          },
          "output_type": "display_data"
        },
        {
          "name": "stdout",
          "output_type": "stream",
          "text": [
            "GroundTruth:    cat  ship  ship plane\n"
          ]
        }
      ],
      "source": [
        "dataiter = iter(testloader)\n",
        "images, labels = dataiter.next()\n",
        "\n",
        "# print images\n",
        "imshow(torchvision.utils.make_grid(images))\n",
        "print('GroundTruth: ', ' '.join('%5s' % classes[labels[j]] for j in range(4)))"
      ]
    },
    {
      "cell_type": "markdown",
      "metadata": {
        "id": "S_bykMMbmwPm"
      },
      "source": [
        "Okay, now let us see what the neural network thinks these examples above are:\n",
        "\n"
      ]
    },
    {
      "cell_type": "code",
      "execution_count": 96,
      "metadata": {
        "id": "N-YZvLwVmwPm"
      },
      "outputs": [
        {
          "name": "stdout",
          "output_type": "stream",
          "text": [
            "tensor([[-8.0571e-01, -1.3442e+00, -9.3545e-01,  4.1154e+00, -1.7271e+00,\n",
            "          3.9496e+00,  1.0397e+00, -2.2028e+00, -2.8966e-01, -7.2906e-01],\n",
            "        [ 5.5702e+00,  5.4401e+00, -4.1044e+00, -3.0826e+00, -2.1954e+00,\n",
            "         -4.6336e+00, -6.7746e+00, -5.2291e+00,  9.2349e+00,  4.6734e+00],\n",
            "        [ 3.3549e+00,  2.8721e+00, -1.9122e-01, -2.0394e+00, -1.6369e+00,\n",
            "         -2.7278e+00, -3.7145e+00, -1.1083e+00,  3.9056e+00,  1.4689e+00],\n",
            "        [ 3.1857e+00,  2.2871e+00, -9.9081e-01, -2.0577e-01, -1.8470e+00,\n",
            "         -2.8474e+00, -3.4847e+00, -3.9668e+00,  2.9709e+00,  2.3103e+00],\n",
            "        [-5.0178e+00, -1.9008e+00,  3.0523e+00,  5.9300e+00,  4.0471e+00,\n",
            "          3.0678e+00,  7.4910e+00, -4.7101e+00, -3.3432e+00, -4.6765e+00],\n",
            "        [-3.2064e+00, -1.2193e+00,  4.3488e-01,  1.8279e+00,  4.0475e-02,\n",
            "          2.5040e+00,  5.7516e+00, -1.8276e+00, -1.0020e+00, -9.7564e-01],\n",
            "        [-8.7905e-01,  3.5070e+00, -5.1112e-02,  3.5665e-02, -2.2746e+00,\n",
            "          9.4151e-01, -2.3105e+00, -1.8588e+00, -3.2208e+00,  7.9415e+00],\n",
            "        [-7.9375e-01, -2.9443e+00,  3.7014e+00,  2.4432e+00,  3.0524e+00,\n",
            "          1.7205e-01,  4.1965e+00, -4.5596e+00, -2.3512e-01, -2.4505e+00],\n",
            "        [-1.2868e+00, -3.8700e+00,  1.7466e+00,  4.0610e+00,  3.4368e+00,\n",
            "          2.5471e+00,  1.6526e+00,  1.4441e+00, -4.3596e+00, -4.3538e+00],\n",
            "        [-4.9167e-01,  8.8802e+00, -2.0879e+00, -2.5092e+00, -4.9319e+00,\n",
            "         -2.2862e+00, -2.9270e+00, -5.6928e+00,  2.7856e+00,  7.9308e+00],\n",
            "        [ 2.9996e+00, -3.3149e+00,  2.5624e+00,  1.3572e+00,  3.8405e+00,\n",
            "          2.8652e-01, -3.2428e+00,  9.9165e-02,  4.1503e-01, -3.3485e+00],\n",
            "        [-7.7674e-01,  4.2873e+00, -1.4729e+00, -2.4728e+00, -1.5903e+00,\n",
            "         -3.9994e+00, -4.9483e+00, -3.2801e+00,  1.1898e+00,  1.2025e+01],\n",
            "        [-3.8618e+00, -2.2087e+00,  1.0215e+00,  3.2668e+00,  3.1696e+00,\n",
            "          3.3630e+00,  3.6235e+00,  1.5155e+00, -3.2277e+00, -4.4536e+00],\n",
            "        [-4.6147e+00, -5.4479e+00,  1.4301e+00,  1.2031e+00,  5.4799e+00,\n",
            "          4.8873e+00, -2.2458e+00,  1.0288e+01, -9.0235e+00, -3.2290e+00],\n",
            "        [-1.3413e+00,  5.3236e+00, -4.0393e-01, -1.6141e+00, -1.7724e+00,\n",
            "         -2.1047e+00, -4.4822e+00, -4.8819e+00,  3.2342e+00,  8.5451e+00],\n",
            "        [ 1.2002e+00, -1.6645e+00,  3.5895e-01,  1.3069e+00,  1.4071e+00,\n",
            "         -5.8379e-01,  1.4056e+00, -6.7781e+00,  6.0134e+00, -1.2662e+00],\n",
            "        [-9.3415e-01, -4.2266e-01, -1.5384e+00,  2.4758e+00, -2.7268e+00,\n",
            "          4.4862e+00, -8.0419e-01,  1.1445e+00, -9.0801e-01,  1.6248e-01],\n",
            "        [ 1.4642e+00, -4.4802e+00,  2.2401e+00,  9.6441e-01,  1.9610e+00,\n",
            "         -4.7521e-01, -2.6152e-01,  2.6765e+00, -1.4492e+00, -9.3561e-01],\n",
            "        [ 2.7960e+00,  2.9654e+00, -2.9414e+00,  2.7606e-01, -3.6317e+00,\n",
            "         -1.5133e+00, -3.2523e+00, -4.3914e+00,  7.3959e+00,  2.5388e+00],\n",
            "        [-2.6893e+00, -2.9376e+00,  2.5893e+00,  2.5744e+00,  4.2976e+00,\n",
            "          3.1054e+00,  7.2170e+00, -2.1379e+00, -5.4704e+00, -3.9833e+00],\n",
            "        [-1.4864e+00, -3.9008e+00, -1.5786e+00,  8.1824e-01,  3.5470e+00,\n",
            "          1.5155e+00, -1.8212e+00,  6.3353e+00, -3.8206e+00, -1.6538e+00],\n",
            "        [ 9.7014e+00, -4.0525e+00,  1.0471e+01,  2.9277e+00,  2.9999e+00,\n",
            "         -2.6115e+00, -2.0231e+00, -2.1049e+00, -7.7938e+00, -5.4044e+00],\n",
            "        [ 5.6456e+00, -2.9124e+00,  3.6922e+00, -4.5091e-02,  3.8500e+00,\n",
            "         -7.1264e-01,  8.9933e-01, -3.8835e+00,  4.5445e-01, -4.6670e+00],\n",
            "        [-1.5659e+00,  6.7983e+00, -4.2641e+00,  1.1959e-01, -4.1596e+00,\n",
            "         -2.5605e+00,  3.5939e-01, -3.3448e+00, -2.6865e+00,  1.1510e+01],\n",
            "        [-7.3358e-01, -5.5124e+00,  3.3925e+00,  2.0484e+00,  6.4863e+00,\n",
            "          3.0490e+00,  1.0190e+00,  2.4594e+00, -6.2543e+00, -5.0571e+00],\n",
            "        [-1.7022e+00, -1.6545e+00,  1.0116e+00,  2.8854e+00,  3.4725e+00,\n",
            "         -4.2660e-01,  6.1086e-01, -8.2883e-01, -7.5440e-01, -1.1053e-01],\n",
            "        [ 3.0649e-01, -2.0697e-01,  1.2689e+00,  2.2801e+00,  3.5344e+00,\n",
            "          2.2273e+00,  2.4220e+00,  1.7945e+00, -6.7435e+00, -3.1798e+00],\n",
            "        [ 6.5872e+00, -5.4804e+00,  4.1242e+00,  1.6887e+00,  1.8637e+00,\n",
            "          6.2213e-02, -2.0840e+00, -5.0976e-01, -7.2506e+00, -1.1539e+00],\n",
            "        [-3.0059e-01,  6.6828e-01,  7.9880e-01,  4.8824e-01, -9.1144e-01,\n",
            "         -3.3313e-01, -1.1829e+00,  4.8210e-01, -2.7539e+00,  3.2331e+00],\n",
            "        [-2.3716e+00, -9.3606e-01,  7.7909e-01,  7.4408e-01,  4.1834e+00,\n",
            "         -8.0087e-02,  6.6000e+00, -1.8535e+00, -1.7002e+00, -2.2409e+00],\n",
            "        [-3.0789e+00, -2.1020e+00,  1.5435e+00,  4.4026e+00,  2.5849e+00,\n",
            "          2.2652e+00,  7.5676e+00, -1.5730e+00, -4.6513e+00, -3.1265e+00],\n",
            "        [-1.7790e+00, -4.3237e+00,  3.1638e+00,  2.6397e+00,  3.1532e+00,\n",
            "          2.8362e+00,  4.3324e-01,  3.9928e-01, -2.3696e+00, -2.3588e+00],\n",
            "        [ 5.2810e-01, -3.9598e+00,  4.4622e+00,  1.3696e+00,  3.2833e+00,\n",
            "          1.0188e+00,  6.4905e-01, -8.4568e-01, -6.4766e-01, -3.8435e+00],\n",
            "        [-1.7238e+00, -3.8161e+00,  1.5970e-01,  4.3855e+00,  1.4324e+00,\n",
            "          4.2975e+00,  2.1452e+00, -1.7458e+00, -1.8503e+00, -2.6520e+00],\n",
            "        [ 1.3280e+00,  5.7692e-02,  6.8459e-01, -8.0373e-01,  2.8822e-01,\n",
            "         -1.5261e+00, -5.4223e+00,  2.0027e+00, -6.1454e-01,  4.4555e+00],\n",
            "        [-1.3552e+00,  9.0113e-01, -2.0244e+00,  1.5466e+00,  1.6910e+00,\n",
            "          3.4424e-01, -1.6304e-01, -2.5623e+00,  7.7627e-01,  1.2529e+00],\n",
            "        [-4.2593e+00, -3.7770e+00,  2.6199e+00,  3.1948e+00,  5.1990e+00,\n",
            "          3.5534e+00,  3.2350e+00,  4.8632e+00, -8.5635e+00, -4.8415e+00],\n",
            "        [ 3.3161e+00,  4.4159e+00, -2.1080e+00, -3.3742e+00, -2.2654e-01,\n",
            "         -2.4754e+00, -5.3701e+00, -8.0094e-02,  2.4199e+00,  4.1011e+00],\n",
            "        [-1.1157e+00,  5.8604e+00, -4.8456e+00, -2.1236e+00, -2.8610e+00,\n",
            "         -1.2390e+00, -2.5973e+00, -4.5087e+00, -5.1622e-01,  1.0735e+01],\n",
            "        [-2.4087e+00, -3.9157e+00, -2.2204e-01,  3.9105e+00,  8.9613e-01,\n",
            "          5.3583e+00,  5.8119e-01,  8.4645e-01, -6.6177e-01, -2.2286e+00],\n",
            "        [ 3.3937e+00, -2.7111e+00,  3.4451e+00, -7.6593e-01,  4.8922e+00,\n",
            "         -3.3707e+00, -5.2833e+00,  2.0601e+00, -4.5579e-01,  3.7005e-01],\n",
            "        [-2.2766e+00, -2.3681e+00,  4.3290e+00,  1.5914e+00,  2.8302e+00,\n",
            "          2.1686e+00,  6.3580e+00, -1.5599e+00, -4.5330e+00, -3.4408e+00],\n",
            "        [ 3.9789e-02, -4.3786e+00,  2.4238e+00,  3.5659e+00,  1.9272e+00,\n",
            "          4.5967e+00, -2.7448e+00,  4.6498e+00, -5.3245e+00, -1.9155e+00],\n",
            "        [-2.7826e+00,  3.2031e-01,  2.2274e+00,  2.2358e+00, -1.2438e+00,\n",
            "          3.2936e+00,  5.8760e+00, -4.3163e+00, -9.2978e-01, -1.4575e+00],\n",
            "        [ 6.4429e+00, -1.6023e+00,  2.0539e+00, -4.2995e+00,  4.0252e+00,\n",
            "         -3.4106e+00, -7.5707e+00,  1.6114e+00,  2.5290e+00,  1.4352e+00],\n",
            "        [ 2.8722e+00,  3.5208e+00, -2.2491e+00, -2.3695e+00, -4.5562e-01,\n",
            "         -1.9852e+00, -7.4672e+00, -2.1550e+00,  5.7484e+00,  5.2964e+00],\n",
            "        [-3.5753e+00, -4.6662e+00,  1.4409e+00,  4.5479e+00,  3.8126e+00,\n",
            "          4.0129e+00,  1.8735e+00,  9.8167e-01, -2.5973e+00, -3.7088e+00],\n",
            "        [-3.0781e-01, -2.3798e-01,  9.6368e-03,  1.2139e+00,  4.5102e-01,\n",
            "          1.1403e+00, -3.3040e+00,  1.2331e+00, -3.2740e-01,  3.8526e-01],\n",
            "        [-3.7801e+00, -7.0320e+00,  5.4844e-01,  6.6552e-01,  8.9665e+00,\n",
            "          4.7055e+00, -3.1458e-01,  8.4191e+00, -5.3164e+00, -6.3588e+00],\n",
            "        [-1.6510e+00, -2.9291e+00,  5.4765e+00,  1.9185e+00,  4.3516e+00,\n",
            "          4.6715e-01,  6.6917e+00, -2.2130e+00, -4.0244e+00, -4.2251e+00],\n",
            "        [ 8.4393e-01, -2.7881e+00,  1.8239e+00,  5.2592e-01,  3.5210e+00,\n",
            "         -1.0001e+00, -1.3345e+00,  3.3040e+00, -4.1923e+00,  5.9171e-01],\n",
            "        [-1.5862e-01,  2.1161e-01, -5.4910e-01, -1.7211e-01,  6.7420e-01,\n",
            "         -1.0954e+00, -8.3001e-01, -1.5522e+00,  2.4101e+00,  1.2487e+00],\n",
            "        [-8.6152e-01, -3.2593e+00,  3.7578e+00,  1.2847e+00,  2.1700e+00,\n",
            "          1.3288e+00,  6.7310e+00,  2.3472e+00, -5.1442e+00, -3.7557e+00],\n",
            "        [-3.2258e+00, -2.7581e+00,  2.8742e-01,  3.5904e+00,  3.4372e+00,\n",
            "          3.6855e+00,  3.8051e+00,  8.6024e-01, -4.1829e+00, -2.7383e+00],\n",
            "        [ 9.6691e+00,  9.5373e-01,  2.6736e-01, -4.4886e+00, -4.1327e-01,\n",
            "         -5.6882e+00, -5.1411e+00, -4.3096e+00,  1.1759e+01,  9.6208e-01],\n",
            "        [ 4.2729e+00, -3.1949e+00,  1.2285e+00,  2.7571e-01,  7.5545e-01,\n",
            "         -1.7289e+00, -2.1705e+00, -3.2305e+00,  4.9383e+00, -1.0993e+00],\n",
            "        [-4.8348e+00, -4.6834e+00,  3.0953e+00,  5.3027e+00,  4.8763e+00,\n",
            "          6.8502e+00, -1.2392e-02,  3.2975e+00, -6.6450e+00, -4.9198e+00],\n",
            "        [-4.4955e-01, -6.1357e-01,  1.2348e+00,  1.7525e+00, -1.4780e+00,\n",
            "          1.9782e+00,  1.1960e+00, -1.6970e+00,  1.6528e+00, -1.9210e+00],\n",
            "        [-1.8585e+00, -3.4762e+00,  1.6731e+00,  1.7175e+00,  2.3666e+00,\n",
            "          3.3327e+00,  9.3240e-01, -6.0891e-01, -1.4720e+00, -2.5244e+00],\n",
            "        [-4.2975e+00, -1.7161e+00,  1.2218e+00,  3.9262e+00,  2.2119e+00,\n",
            "          3.7295e+00,  3.0757e-01,  1.8260e+00, -1.8797e+00, -3.5428e+00],\n",
            "        [-3.1293e+00, -7.5477e+00, -2.5137e+00, -2.5094e-01,  9.2391e+00,\n",
            "          2.8886e+00, -2.9434e+00,  1.5560e+01, -5.8126e+00, -5.1128e+00],\n",
            "        [-4.0200e+00, -4.0516e+00,  1.3058e+00,  5.5261e+00,  1.3269e+00,\n",
            "          6.3173e+00,  3.7011e+00,  2.8801e+00, -4.6630e+00, -4.5875e+00],\n",
            "        [-7.3587e-01, -3.1743e+00,  2.1866e+00,  1.8136e+00,  4.5598e+00,\n",
            "          2.6920e+00,  3.9714e+00, -1.5414e+00, -3.2417e+00, -3.8042e+00],\n",
            "        [ 1.6542e+00,  1.4347e+00,  3.0933e+00,  1.1991e+00, -1.1624e-01,\n",
            "          5.7513e-01, -2.8151e+00, -2.7538e+00, -4.9934e+00,  2.3709e+00],\n",
            "        [-2.8827e+00, -2.1849e+00,  1.1240e+00,  2.4230e+00,  2.0201e+00,\n",
            "          1.3942e+00,  6.3898e+00,  1.8543e+00, -5.3107e+00, -2.9445e+00],\n",
            "        [-2.1323e+00, -1.7150e+00,  5.5950e+00,  1.5324e+00,  8.2819e-01,\n",
            "          1.6611e-02,  3.3476e+00,  6.2604e-01, -3.5959e+00, -2.3080e+00],\n",
            "        [ 3.9531e+00,  2.3303e+00, -5.1342e-01, -1.1470e+00,  1.5741e+00,\n",
            "         -1.9356e+00, -9.5223e-01, -2.0671e+00,  2.3178e-01, -4.8941e-01],\n",
            "        [ 4.9956e+00, -3.4674e+00,  6.9125e+00, -1.7927e+00, -5.0807e+00,\n",
            "         -1.3527e+00, -6.0825e-01, -6.3035e+00,  6.3190e+00, -9.5292e-01],\n",
            "        [-3.9553e+00, -3.9409e+00,  1.7210e+00,  4.4362e+00,  2.1203e+00,\n",
            "          4.8765e+00, -1.2332e+00,  1.6465e+00, -4.3306e+00, -1.8251e+00],\n",
            "        [-6.1495e-02, -7.5935e-01,  9.4977e-01,  2.1181e-02,  1.9066e-01,\n",
            "         -5.4705e-01, -2.4659e+00,  2.7080e+00, -1.9928e+00,  2.2206e+00],\n",
            "        [ 1.9216e+00, -3.2558e+00,  2.8723e+00,  9.1028e-01,  1.7339e+00,\n",
            "          4.2772e-01,  1.5338e-01, -2.8102e+00,  1.2163e+00, -2.5316e+00],\n",
            "        [-2.4530e+00, -2.5875e+00,  2.4257e+00,  5.5480e+00,  3.6071e-01,\n",
            "          1.1017e+00,  4.6578e+00, -3.3422e+00, -1.3697e+00, -1.7686e+00],\n",
            "        [ 4.2930e+00, -1.2407e+00,  1.9941e+00, -1.4304e+00, -1.7031e+00,\n",
            "         -3.8378e+00, -4.0203e+00, -4.8087e+00,  7.7019e+00,  1.5007e+00],\n",
            "        [ 4.2556e+00, -9.3974e-03,  3.7991e-01, -1.7772e+00, -8.4030e-01,\n",
            "         -3.4530e+00, -2.5917e+00, -3.3499e+00,  8.5934e+00,  1.8092e-01],\n",
            "        [ 1.8317e+00,  7.9410e-02, -6.6832e-01, -1.1714e+00, -6.4530e-01,\n",
            "         -8.1474e-01, -3.0905e+00,  1.5767e+00, -1.6629e+00,  2.7432e+00],\n",
            "        [-2.1918e+00, -5.4947e+00,  7.9557e+00,  2.1490e+00,  3.2817e+00,\n",
            "          3.8623e+00,  1.5327e+00,  3.3454e+00, -6.7651e+00, -4.4453e+00],\n",
            "        [ 3.5817e+00, -4.7265e+00,  6.3024e+00, -4.7114e-02,  5.1483e-01,\n",
            "         -3.7292e-01, -2.1030e+00,  7.2722e-01, -1.6980e+00, -1.4345e+00],\n",
            "        [-4.7224e-01, -2.2432e+00,  9.2269e-01,  4.6226e+00, -1.7958e+00,\n",
            "          3.0480e+00, -5.5460e-01, -4.5235e-01,  1.5714e+00, -3.5875e+00],\n",
            "        [-2.4111e+00, -6.4974e+00,  4.4470e+00,  5.2575e+00,  6.0654e+00,\n",
            "          3.9921e+00,  1.6521e+00,  3.9136e+00, -5.8121e+00, -6.7305e+00],\n",
            "        [ 3.4333e+00, -2.7494e-01, -1.8478e+00,  8.6839e-01, -6.3371e-01,\n",
            "         -3.2213e+00, -2.8109e+00, -4.9561e+00,  8.0171e+00,  1.4077e+00],\n",
            "        [ 3.8379e+00,  2.2413e+00, -7.5516e-01, -1.9295e+00, -5.8738e-01,\n",
            "         -3.5751e+00, -4.3779e+00, -2.7309e+00,  6.5783e+00,  1.4017e+00],\n",
            "        [ 2.0232e+00,  2.9558e+00, -1.3089e+00, -5.6382e-01, -3.2112e+00,\n",
            "         -2.9492e+00, -2.2943e+00, -3.1411e+00,  5.5871e+00,  3.6314e+00],\n",
            "        [ 3.1908e+00,  1.0651e+01, -1.6592e+00, -1.1930e+00, -5.6204e+00,\n",
            "         -3.5035e+00, -1.9054e+00, -3.5933e+00,  1.6661e+00,  2.0391e+00],\n",
            "        [-1.0904e+00, -4.9561e+00,  1.4386e+00,  2.4996e+00,  3.5443e+00,\n",
            "          3.7063e+00, -2.7047e+00,  7.0014e+00, -4.4460e+00, -4.5289e+00],\n",
            "        [ 2.2194e+00, -4.7831e+00,  4.7733e+00,  2.1416e+00,  1.2334e+00,\n",
            "          1.5200e+00, -2.5572e+00,  1.2936e+00, -1.6981e+00, -2.8067e+00],\n",
            "        [ 3.9312e-02, -5.8598e+00,  1.9368e+00,  1.3191e+00,  4.2436e+00,\n",
            "          1.9441e+00, -3.3940e+00,  8.1229e+00, -7.9928e+00, -7.1175e-01],\n",
            "        [ 1.1211e+00, -1.3047e+00,  2.4781e+00,  1.8071e-01,  2.2275e+00,\n",
            "         -1.0291e+00, -2.2261e+00,  2.5817e-01, -1.5847e-01, -1.3728e+00],\n",
            "        [ 1.6955e+00, -2.0926e+00,  1.9821e+00, -2.5668e-01,  4.9767e+00,\n",
            "         -7.9741e-01, -3.7455e+00, -7.0560e-01,  2.1205e+00, -1.6200e+00],\n",
            "        [-2.1825e-01, -2.7806e+00, -1.9213e+00,  1.9530e+00,  2.8714e-01,\n",
            "          1.6577e+00, -2.0562e+00, -2.4122e-01,  2.9287e+00,  4.4027e-01],\n",
            "        [ 3.6840e+00,  3.3216e+00, -3.6814e+00, -4.8798e-01, -2.3135e+00,\n",
            "         -1.5483e+00, -2.7395e+00, -2.7732e+00,  4.7928e-01,  5.7363e+00],\n",
            "        [ 9.5269e+00,  2.3608e+00,  9.4463e-01, -4.0146e+00,  1.7495e+00,\n",
            "         -5.4531e+00, -8.5022e+00, -3.8696e+00,  5.8117e+00,  2.2140e+00],\n",
            "        [-2.7517e+00, -1.7320e+00,  1.8291e+00,  2.4808e+00,  2.4668e+00,\n",
            "          1.9325e+00,  1.9374e+00, -4.6300e-01, -1.9676e+00, -2.3818e+00],\n",
            "        [ 5.8355e+00,  5.8374e-01,  2.7139e+00, -3.0388e+00, -1.8649e-01,\n",
            "         -3.7610e+00, -6.7605e+00, -6.0040e-01,  5.7381e+00,  1.5440e+00],\n",
            "        [-1.5912e+00, -3.1913e+00,  3.9706e+00,  5.0851e+00, -2.6155e+00,\n",
            "          3.5431e+00,  8.5384e+00, -5.9802e+00, -1.7951e+00, -1.7525e+00],\n",
            "        [-1.1845e+00, -3.1158e+00,  1.1054e+00,  1.8677e+00,  4.3241e+00,\n",
            "          9.9458e-01,  1.4744e+00,  9.4299e-01, -1.3585e+00, -3.0787e+00],\n",
            "        [-4.9787e+00, -5.1297e+00, -4.1909e-01,  5.5939e+00,  9.2650e-01,\n",
            "          4.1739e+00,  1.0945e+01,  5.2657e-01, -5.0565e+00, -2.0522e+00],\n",
            "        [-2.6477e+00, -5.7416e-01,  1.5699e+00,  9.9614e-01,  6.1282e+00,\n",
            "          1.3667e-01,  5.8359e+00, -2.3120e-01, -4.3700e+00, -4.4627e+00],\n",
            "        [ 3.9619e+00, -3.8274e+00,  2.6505e+00,  1.1082e+00,  1.3833e+00,\n",
            "          2.3782e-01, -8.5340e-01, -1.9690e+00,  1.5461e+00, -3.0723e+00],\n",
            "        [ 4.0092e+00, -4.6312e+00,  5.5052e+00,  2.3028e+00,  1.0011e+00,\n",
            "          1.5523e+00, -8.9414e-01,  1.4565e+00, -6.1793e+00, -1.2604e+00],\n",
            "        [-5.7922e-01, -1.5712e+00,  1.3401e+00,  3.1784e+00, -4.4813e-01,\n",
            "          1.0972e+00, -1.4248e+00,  2.5539e+00, -4.0960e+00, -6.9114e-01]],\n",
            "       grad_fn=<AddmmBackward0>)\n"
          ]
        }
      ],
      "source": [
        "outputs = net(images)\n",
        "print(outputs)\n",
        "# print(torch.sum(outputs,axis=1))"
      ]
    },
    {
      "cell_type": "markdown",
      "metadata": {
        "id": "d5I85BB3mwPo"
      },
      "source": [
        "The outputs are energies for the 10 classes.\n",
        "The higher the energy for a class, the more the network\n",
        "thinks that the image is of the particular class.\n",
        "So, let's get the index of the highest energy:\n",
        "\n"
      ]
    },
    {
      "cell_type": "markdown",
      "metadata": {
        "id": "LETtlXhsxPpZ"
      },
      "source": [
        "### Question: give the decision for all the images in the code cell above. The decision should be a label belonging to the object \"classes\"."
      ]
    },
    {
      "cell_type": "code",
      "execution_count": 97,
      "metadata": {
        "id": "4ztDG5tqx0P0"
      },
      "outputs": [],
      "source": [
        "classes = np.array(classes)"
      ]
    },
    {
      "cell_type": "code",
      "execution_count": 98,
      "metadata": {
        "id": "DLlWRQqDmwPp"
      },
      "outputs": [
        {
          "name": "stdout",
          "output_type": "stream",
          "text": [
            "['cat' 'ship' 'ship' 'plane' 'frog' 'frog' 'truck' 'frog' 'cat' 'car'\n",
            " 'deer' 'truck' 'frog' 'horse' 'truck' 'ship' 'dog' 'horse' 'ship' 'frog'\n",
            " 'horse' 'bird' 'plane' 'truck' 'deer' 'deer' 'deer' 'plane' 'truck'\n",
            " 'frog' 'frog' 'bird' 'bird' 'cat' 'truck' 'deer' 'deer' 'car' 'truck'\n",
            " 'dog' 'deer' 'frog' 'horse' 'frog' 'plane' 'ship' 'cat' 'horse' 'deer'\n",
            " 'frog' 'deer' 'ship' 'frog' 'frog' 'ship' 'ship' 'dog' 'dog' 'dog' 'cat'\n",
            " 'horse' 'dog' 'deer' 'bird' 'frog' 'bird' 'plane' 'bird' 'dog' 'horse'\n",
            " 'bird' 'cat' 'ship' 'ship' 'truck' 'bird' 'bird' 'cat' 'deer' 'ship'\n",
            " 'ship' 'ship' 'car' 'horse' 'bird' 'horse' 'bird' 'deer' 'ship' 'truck'\n",
            " 'plane' 'cat' 'plane' 'frog' 'deer' 'frog' 'deer' 'plane' 'bird' 'cat']\n"
          ]
        }
      ],
      "source": [
        "predictions = classes[torch.argmax(outputs,axis=1)]\n",
        "print(predictions)"
      ]
    },
    {
      "cell_type": "markdown",
      "metadata": {
        "id": "KSLIcznFmwPq"
      },
      "source": [
        "Let us look at how the network performs on the whole dataset.\n",
        "\n"
      ]
    },
    {
      "cell_type": "markdown",
      "metadata": {
        "id": "lk52bUGOx5GB"
      },
      "source": [
        "### Question: compute the average accuracy over all the test set."
      ]
    },
    {
      "cell_type": "code",
      "execution_count": 99,
      "metadata": {
        "id": "kbk8PG89mwPr"
      },
      "outputs": [
        {
          "name": "stdout",
          "output_type": "stream",
          "text": [
            "Accuracy of the network on the 10000 test images: 64 %\n"
          ]
        }
      ],
      "source": [
        "correct = 0\n",
        "total = 0\n",
        "# since we're not training, we don't need to calculate the gradients for our outputs\n",
        "with torch.no_grad():\n",
        "    for data in testloader:\n",
        "        images, labels = data\n",
        "        # calculate outputs by running images through the network\n",
        "        outputs = net(images)\n",
        "        # the class with the highest energy is what we choose as prediction\n",
        "        _, predicted = torch.max(outputs.data, 1)\n",
        "        total += labels.size(0)\n",
        "        correct += (predicted == labels).sum().item()\n",
        "\n",
        "print('Accuracy of the network on the 10000 test images: %d %%' % (\n",
        "    100 * correct / total))"
      ]
    },
    {
      "cell_type": "markdown",
      "metadata": {
        "id": "RP083W6ZmwPs"
      },
      "source": [
        "That looks way better than chance, which is 10% accuracy (randomly picking\n",
        "a class out of 10 classes).\n",
        "Seems like the network learnt something.\n",
        "\n",
        "What are the classes that performed well, and the classes that did\n",
        "not perform well\n",
        "\n",
        "\n"
      ]
    },
    {
      "cell_type": "markdown",
      "metadata": {
        "id": "NHdyJ2Q5swe8"
      },
      "source": [
        "### Question: Compute the average accuracy per class (there are 10 classes)."
      ]
    },
    {
      "cell_type": "code",
      "execution_count": 100,
      "metadata": {
        "id": "5iKkeOUvmwPs"
      },
      "outputs": [
        {
          "name": "stdout",
          "output_type": "stream",
          "text": [
            "Accuracy for class plane is: 69.1 %\n",
            "Accuracy for class car   is: 77.1 %\n",
            "Accuracy for class bird  is: 58.0 %\n",
            "Accuracy for class cat   is: 48.2 %\n",
            "Accuracy for class deer  is: 64.4 %\n",
            "Accuracy for class dog   is: 47.2 %\n",
            "Accuracy for class frog  is: 73.4 %\n",
            "Accuracy for class horse is: 63.9 %\n",
            "Accuracy for class ship  is: 74.0 %\n",
            "Accuracy for class truck is: 67.0 %\n"
          ]
        }
      ],
      "source": [
        "# prepare to count predictions for each class\n",
        "correct_pred = {classname: 0 for classname in classes}\n",
        "total_pred = {classname: 0 for classname in classes}\n",
        "\n",
        "# again no gradients needed\n",
        "with torch.no_grad():\n",
        "    for data in testloader:\n",
        "        images, labels = data\n",
        "        outputs = net(images)\n",
        "        _, predictions = torch.max(outputs, 1)\n",
        "        # collect the correct predictions for each class\n",
        "        for label, prediction in zip(labels, predictions):\n",
        "            if label == prediction:\n",
        "                correct_pred[classes[label]] += 1\n",
        "            total_pred[classes[label]] += 1\n",
        "\n",
        "\n",
        "# print accuracy for each class\n",
        "for classname, correct_count in correct_pred.items():\n",
        "    accuracy = 100 * float(correct_count) / total_pred[classname]\n",
        "    print(\"Accuracy for class {:5s} is: {:.1f} %\".format(classname,\n",
        "                                                   accuracy))"
      ]
    }
  ],
  "metadata": {
    "colab": {
      "collapsed_sections": [],
      "name": "INUM_DL_Lab3_CNN_2021.ipynb",
      "provenance": [],
      "toc_visible": true
    },
    "kernelspec": {
      "display_name": "Python 3 (ipykernel)",
      "language": "python",
      "name": "python3"
    },
    "language_info": {
      "codemirror_mode": {
        "name": "ipython",
        "version": 3
      },
      "file_extension": ".py",
      "mimetype": "text/x-python",
      "name": "python",
      "nbconvert_exporter": "python",
      "pygments_lexer": "ipython3",
      "version": "3.8.12"
    }
  },
  "nbformat": 4,
  "nbformat_minor": 0
}
