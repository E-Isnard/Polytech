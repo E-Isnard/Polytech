{
 "cells": [
  {
   "cell_type": "markdown",
   "metadata": {
    "id": "r5YvnGc0h0b1"
   },
   "source": [
    "# Lab 6: A LSTM for Part-of-Speech Tagging\n",
    "\n"
   ]
  },
  {
   "cell_type": "markdown",
   "metadata": {
    "id": "6pVTtKkfuyib"
   },
   "source": [
    "## Part-of-Speech Tagging\n",
    "\n",
    "\n",
    "In this section, we will use an LSTM to get part of speech tags.\n",
    "\n",
    "The model is as follows: let our input sentence be\n",
    "$w_1, \\dots, w_M$, where $w_i \\in V$, our vocabulary. Also, let\n",
    "$T$ be our tag set, and $y_i$ the tag of word $w_i$.\n",
    "Denote our prediction of the tag of word $w_i$ by\n",
    "$\\hat{y}_i$.\n",
    "\n",
    "This is a structure prediction, model, where our output is a sequence\n",
    "$\\hat{y}_1, \\dots, \\hat{y}_M$, where $\\hat{y}_i \\in T$.\n",
    "\n",
    "To do the prediction, pass an LSTM over the sentence. Denote the hidden\n",
    "state at timestep $i$ as $h_i$. Also, assign each tag a\n",
    "unique index (like how we had word\\_to\\_ix in the word embeddings\n",
    "section). Then our prediction rule for $\\hat{y}_i$ is\n",
    "\n",
    "$$\\begin{align}\\hat{y}_i = \\text{argmax}_j \\  (\\log \\text{Softmax}(Ah_i + b))_j\\end{align}$$\n",
    "\n",
    "That is, take the log softmax of the affine map of the hidden state,\n",
    "and the predicted tag is the tag that has the maximum value in this\n",
    "vector. Note this implies immediately that the dimensionality of the\n",
    "target space of $A$ is $|T|$.\n",
    "\n",
    "\n",
    "\n"
   ]
  },
  {
   "cell_type": "code",
   "execution_count": 42,
   "metadata": {
    "id": "saX6EAx_uyiM"
   },
   "outputs": [],
   "source": [
    "%matplotlib inline"
   ]
  },
  {
   "cell_type": "markdown",
   "metadata": {
    "id": "sT9CUaWtuyiT"
   },
   "source": [
    "## Sequence Models and Long-Short Term Memory Networks\n",
    "\n",
    "\n",
    "At this point, we have seen various feed-forward networks. That is,\n",
    "there is no state maintained by the network at all. This might not be\n",
    "the behavior we want. Sequence models are central to NLP: they are\n",
    "models where there is some sort of dependence through time between your\n",
    "inputs. The classical example of a sequence model is the Hidden Markov\n",
    "Model for part-of-speech tagging. Another example is the conditional\n",
    "random field.\n",
    "\n",
    "A recurrent neural network is a network that maintains some kind of\n",
    "state. For example, its output could be used as part of the next input,\n",
    "so that information can propogate along as the network passes over the\n",
    "sequence. In the case of an LSTM, for each element in the sequence,\n",
    "there is a corresponding hidden state $h_t$, which in principle\n",
    "can contain information from arbitrary points earlier in the sequence.\n",
    "We can use the hidden state to predict words in a language model,\n",
    "part-of-speech tags, and a myriad of other things.\n",
    "\n",
    "\n",
    "\n",
    "\n"
   ]
  },
  {
   "cell_type": "code",
   "execution_count": 43,
   "metadata": {
    "colab": {
     "base_uri": "https://localhost:8080/"
    },
    "id": "tv3qTm3yuyiV",
    "outputId": "10765942-bc2d-4e34-db8b-0044a39d9e86"
   },
   "outputs": [
    {
     "data": {
      "text/plain": [
       "<torch._C.Generator at 0x17b5d4a70b0>"
      ]
     },
     "execution_count": 43,
     "metadata": {},
     "output_type": "execute_result"
    }
   ],
   "source": [
    "# Author: Robert Guthrie\n",
    "\n",
    "import torch\n",
    "import torch.nn as nn\n",
    "import torch.nn.functional as F\n",
    "import torch.optim as optim\n",
    "\n",
    "torch.manual_seed(1)"
   ]
  },
  {
   "cell_type": "markdown",
   "metadata": {
    "id": "F2-nKqJkhptG"
   },
   "source": [
    "## Prepare data:"
   ]
  },
  {
   "cell_type": "code",
   "execution_count": 44,
   "metadata": {
    "id": "9ofc3ns4mSEN"
   },
   "outputs": [],
   "source": [
    "training_data = [\n",
    "    (\"The dog ate the apple\".split(), [\"DET\", \"NN\", \"V\", \"DET\", \"NN\"]),\n",
    "    (\"Everybody read that book\".split(), [\"NN\", \"V\", \"DET\", \"NN\"])\n",
    "]"
   ]
  },
  {
   "cell_type": "markdown",
   "metadata": {
    "id": "Def8PmS7YJfz"
   },
   "source": [
    "Print the structure of the training data"
   ]
  },
  {
   "cell_type": "code",
   "execution_count": 45,
   "metadata": {
    "colab": {
     "base_uri": "https://localhost:8080/"
    },
    "id": "LAZMbsjWX93s",
    "outputId": "37139eff-c8f7-4080-b82d-c356db0420a6"
   },
   "outputs": [
    {
     "name": "stdout",
     "output_type": "stream",
     "text": [
      "[(['The', 'dog', 'ate', 'the', 'apple'], ['DET', 'NN', 'V', 'DET', 'NN']), (['Everybody', 'read', 'that', 'book'], ['NN', 'V', 'DET', 'NN'])]\n",
      "(['The', 'dog', 'ate', 'the', 'apple'], ['DET', 'NN', 'V', 'DET', 'NN'])\n",
      "['The', 'dog', 'ate', 'the', 'apple']\n"
     ]
    }
   ],
   "source": [
    "print(training_data)\n",
    "print(training_data[0])\n",
    "print(training_data[0][0])"
   ]
  },
  {
   "cell_type": "code",
   "execution_count": 46,
   "metadata": {
    "colab": {
     "base_uri": "https://localhost:8080/"
    },
    "id": "jTYEDs5yuyic",
    "outputId": "cfa0f7fc-dc83-43e3-8f49-814fc7de3c70"
   },
   "outputs": [
    {
     "name": "stdout",
     "output_type": "stream",
     "text": [
      "{'The': 0, 'dog': 1, 'ate': 2, 'the': 3, 'apple': 4, 'Everybody': 5, 'read': 6, 'that': 7, 'book': 8}\n"
     ]
    }
   ],
   "source": [
    "def prepare_sequence(seq, to_ix):\n",
    "    idxs = [to_ix[w] for w in seq]\n",
    "    return torch.tensor(idxs, dtype=torch.long)\n",
    "\n",
    "word_to_ix = {}\n",
    "for sent, tags in training_data:\n",
    "    for word in sent:\n",
    "        if word not in word_to_ix:\n",
    "            word_to_ix[word] = len(word_to_ix)\n",
    "print(word_to_ix)\n",
    "\n",
    "tag_to_ix = {\"DET\": 0, \"NN\": 1, \"V\": 2}\n",
    "\n"
   ]
  },
  {
   "cell_type": "code",
   "execution_count": 47,
   "metadata": {
    "colab": {
     "base_uri": "https://localhost:8080/"
    },
    "id": "PsyjwG8lq_yI",
    "outputId": "888fe451-0c71-422b-ad44-0683a9296c06"
   },
   "outputs": [
    {
     "name": "stdout",
     "output_type": "stream",
     "text": [
      "{0: 'DET', 1: 'NN', 2: 'V'}\n"
     ]
    }
   ],
   "source": [
    "ix_to_tag = {}\n",
    "for i, tag in enumerate(tag_to_ix):\n",
    "    ix_to_tag[i] = tag\n",
    "\n",
    "print(ix_to_tag)"
   ]
  },
  {
   "cell_type": "code",
   "execution_count": 48,
   "metadata": {
    "id": "SeVR1aPKtgUj"
   },
   "outputs": [],
   "source": [
    "# These will usually be more like 32 or 64 dimensional.\n",
    "# We will keep them small, so we can see how the weights change as we train.\n",
    "EMBEDDING_DIM = 6\n",
    "HIDDEN_DIM = 10"
   ]
  },
  {
   "cell_type": "markdown",
   "metadata": {
    "id": "2I-62Zbruyif"
   },
   "source": [
    "## Play with the LSTM:\n",
    "\n"
   ]
  },
  {
   "cell_type": "markdown",
   "metadata": {
    "id": "YTCZE3MHClqa"
   },
   "source": [
    "A few cells to understand and test the LSTM"
   ]
  },
  {
   "cell_type": "code",
   "execution_count": 49,
   "metadata": {
    "colab": {
     "base_uri": "https://localhost:8080/"
    },
    "id": "KiM1l4lD7Y_P",
    "outputId": "7e8a3472-37fe-4614-c537-0563d6898c7a"
   },
   "outputs": [
    {
     "name": "stdout",
     "output_type": "stream",
     "text": [
      "9\n",
      "Embedding(9, 6)\n"
     ]
    }
   ],
   "source": [
    "vocab_size = len(word_to_ix)\n",
    "print(vocab_size)\n",
    "embedding_dim = EMBEDDING_DIM\n",
    "hidden_dim = HIDDEN_DIM\n",
    "word_embeddings = nn.Embedding(vocab_size, embedding_dim)\n",
    "print(word_embeddings)\n"
   ]
  },
  {
   "cell_type": "code",
   "execution_count": 50,
   "metadata": {
    "colab": {
     "base_uri": "https://localhost:8080/"
    },
    "id": "74bi1p4mXYFx",
    "outputId": "af68895b-cb39-472f-b9ab-a5d7d69882fc"
   },
   "outputs": [
    {
     "name": "stdout",
     "output_type": "stream",
     "text": [
      "['The', 'dog', 'ate', 'the', 'apple']\n",
      "tensor([0, 1, 2, 3, 4])\n"
     ]
    }
   ],
   "source": [
    "sentence = training_data[0][0]\n",
    "print(sentence)\n",
    "sentence_in = prepare_sequence(sentence, word_to_ix)\n",
    "print(sentence_in)\n"
   ]
  },
  {
   "cell_type": "markdown",
   "metadata": {},
   "source": [
    "### Question: how to interpret the content of \"embeds\" in the next cell?"
   ]
  },
  {
   "cell_type": "markdown",
   "metadata": {},
   "source": [
    "embeds is a matrix containing the vectorial representation of the words in the sentence given to the function."
   ]
  },
  {
   "cell_type": "code",
   "execution_count": 51,
   "metadata": {
    "colab": {
     "base_uri": "https://localhost:8080/"
    },
    "id": "_pi9VQKVXc2g",
    "outputId": "a3e6237f-1b75-4635-fd21-10b3209a1239"
   },
   "outputs": [
    {
     "name": "stdout",
     "output_type": "stream",
     "text": [
      "tensor([0, 1, 2, 3, 4])\n",
      "tensor([[-1.5256, -0.7502, -0.6540, -1.6095, -0.1002, -0.6092],\n",
      "        [-0.9798, -1.6091, -0.7121,  0.3037, -0.7773, -0.2515],\n",
      "        [-0.2223,  1.6871,  0.2284,  0.4676, -0.6970, -1.1608],\n",
      "        [ 0.6995,  0.1991,  0.8657,  0.2444, -0.6629,  0.8073],\n",
      "        [ 1.1017, -0.1759, -2.2456, -1.4465,  0.0612, -0.6177]],\n",
      "       grad_fn=<EmbeddingBackward0>)\n",
      "torch.Size([5, 6])\n"
     ]
    }
   ],
   "source": [
    "embeds = word_embeddings(sentence_in)\n",
    "print(sentence_in)\n",
    "print(embeds)\n",
    "print(embeds.shape)"
   ]
  },
  {
   "cell_type": "markdown",
   "metadata": {},
   "source": [
    "### Question: how to interpret the content of \"lstm_out\" in the next cell?"
   ]
  },
  {
   "cell_type": "markdown",
   "metadata": {},
   "source": [
    "lstm_out contains the hidden states."
   ]
  },
  {
   "cell_type": "code",
   "execution_count": 52,
   "metadata": {
    "colab": {
     "base_uri": "https://localhost:8080/"
    },
    "id": "YUt1ERolXjyO",
    "outputId": "11d48fb4-e023-480e-f267-2707b886e49d"
   },
   "outputs": [
    {
     "name": "stdout",
     "output_type": "stream",
     "text": [
      "tensor([[[-1.5256, -0.7502, -0.6540, -1.6095, -0.1002, -0.6092]],\n",
      "\n",
      "        [[-0.9798, -1.6091, -0.7121,  0.3037, -0.7773, -0.2515]],\n",
      "\n",
      "        [[-0.2223,  1.6871,  0.2284,  0.4676, -0.6970, -1.1608]],\n",
      "\n",
      "        [[ 0.6995,  0.1991,  0.8657,  0.2444, -0.6629,  0.8073]],\n",
      "\n",
      "        [[ 1.1017, -0.1759, -2.2456, -1.4465,  0.0612, -0.6177]]],\n",
      "       grad_fn=<ViewBackward0>)\n",
      "torch.Size([5, 1, 6])\n"
     ]
    }
   ],
   "source": [
    "embeds_view = embeds.view(len(sentence), 1, -1)\n",
    "print(embeds_view)\n",
    "print(embeds_view.shape)\n",
    "\n",
    "lstm = nn.LSTM(embedding_dim, hidden_dim)\n",
    "# Parameters of LSTM\n",
    "# input_size – The number of expected features in the input x\n",
    "# hidden_size – The number of features in the hidden state h\n",
    "lstm_out, _ = lstm(embeds_view)\n"
   ]
  },
  {
   "cell_type": "markdown",
   "metadata": {},
   "source": [
    "## Create the model:"
   ]
  },
  {
   "cell_type": "markdown",
   "metadata": {
    "id": "Uq05ggenljEp"
   },
   "source": [
    "### Question: add a LSTM layer in the following neural network with an embedding layer."
   ]
  },
  {
   "cell_type": "markdown",
   "metadata": {
    "id": "6BbIi4dpZuGm"
   },
   "source": [
    "Write your answer here."
   ]
  },
  {
   "cell_type": "markdown",
   "metadata": {
    "id": "2mIR3B2glNOT"
   },
   "source": [
    "### Question: what is the role of the linear layer in the following neural network?"
   ]
  },
  {
   "cell_type": "markdown",
   "metadata": {
    "id": "UJ9stQE8ZwMS"
   },
   "source": [
    "Write your answer here."
   ]
  },
  {
   "cell_type": "markdown",
   "metadata": {
    "id": "ctPvIABFpKDq"
   },
   "source": [
    "### Question: how to interpret the output of the \"forward\" function?"
   ]
  },
  {
   "cell_type": "markdown",
   "metadata": {
    "id": "Pjpi76ZNafvN"
   },
   "source": [
    "Write your answer here."
   ]
  },
  {
   "cell_type": "code",
   "execution_count": 53,
   "metadata": {
    "id": "OXaxLbWiuyif"
   },
   "outputs": [],
   "source": [
    "class LSTMTagger(nn.Module):\n",
    "\n",
    "    def __init__(self, embedding_dim, hidden_dim, vocab_size, tagset_size):\n",
    "        super(LSTMTagger, self).__init__()\n",
    "        self.hidden_dim = hidden_dim\n",
    "\n",
    "        # Write your code here.\n",
    "        \n",
    "        self.word_embeddings = nn.Embedding(vocab_size, embedding_dim)\n",
    "        self.lstm = nn.LSTM(embedding_dim,hidden_dim)\n",
    "\n",
    "        # The linear layer that maps from hidden state space to tag space\n",
    "        self.hidden2tag = nn.Linear(hidden_dim, tagset_size)\n",
    "\n",
    "    def forward(self, sentence):\n",
    "\n",
    "        vect = self.word_embeddings(sentence).view(len(sentence),1,-1)\n",
    "        lstm_out,_ = self.lstm(vect)\n",
    "        tag_space = self.hidden2tag(lstm_out.view(len(sentence),-1))\n",
    "        tag_scores = F.log_softmax(tag_space, dim=1)\n",
    "        return tag_scores"
   ]
  },
  {
   "cell_type": "markdown",
   "metadata": {
    "id": "hjJCSilHuyih"
   },
   "source": [
    "## Train the model:\n",
    "\n"
   ]
  },
  {
   "cell_type": "code",
   "execution_count": 65,
   "metadata": {
    "id": "NLNN8YmjmtfY"
   },
   "outputs": [],
   "source": [
    "model = LSTMTagger(EMBEDDING_DIM, HIDDEN_DIM, len(word_to_ix), len(tag_to_ix))\n",
    "loss_function = nn.NLLLoss()\n",
    "optimizer = optim.SGD(model.parameters(), lr=0.1)"
   ]
  },
  {
   "cell_type": "code",
   "execution_count": 55,
   "metadata": {
    "id": "7M3aWiDVqgOw"
   },
   "outputs": [],
   "source": [
    "def get_index_of_max(input):\n",
    "    index = 0\n",
    "    for i in range(1, len(input)):\n",
    "        if input[i] > input[index]:\n",
    "            index = i \n",
    "    return index\n",
    "\n",
    "def get_max_prob_result(input, ix_to_tag):\n",
    "    return ix_to_tag[get_index_of_max(input)]"
   ]
  },
  {
   "cell_type": "markdown",
   "metadata": {
    "id": "i7fuRulFnVbW"
   },
   "source": [
    "### Question: compute and print the tags before the training for the input defined below."
   ]
  },
  {
   "cell_type": "code",
   "execution_count": 67,
   "metadata": {
    "colab": {
     "base_uri": "https://localhost:8080/"
    },
    "id": "whVby35_uyii",
    "outputId": "e9b4f41c-1ad7-4d30-ab3b-8a5adddb1191"
   },
   "outputs": [
    {
     "name": "stdout",
     "output_type": "stream",
     "text": [
      "tensor([[-1.0275, -0.9555, -1.3567],\n",
      "        [-0.9928, -0.9257, -1.4559],\n",
      "        [-0.9537, -1.0331, -1.3517],\n",
      "        [-0.9893, -0.9985, -1.3481],\n",
      "        [-1.0563, -0.9388, -1.3426]])\n",
      "The dog ate the apple\n",
      "NN NN DET DET NN\n"
     ]
    }
   ],
   "source": [
    "with torch.no_grad():\n",
    "    sentence = training_data[0][0]\n",
    "    inputs = prepare_sequence(sentence, word_to_ix)\n",
    "    tags_score = model(inputs)\n",
    "    print(tags_score)\n",
    "    tags = [get_max_prob_result(tag_val,ix_to_tag) for tag_val in tags_score]\n",
    "    print(\" \".join(sentence))\n",
    "    print(\" \".join(tags))\n",
    "\n"
   ]
  },
  {
   "cell_type": "markdown",
   "metadata": {},
   "source": [
    "### Question: write the code that trains the neural network."
   ]
  },
  {
   "cell_type": "code",
   "execution_count": 68,
   "metadata": {},
   "outputs": [],
   "source": [
    "for epoch in range(300):\n",
    "\tfor sentence,tag in training_data:\n",
    "\t\toptimizer.zero_grad()\n",
    "\t\tinputs = prepare_sequence(sentence,word_to_ix)\n",
    "\t\ttarget = prepare_sequence(tag,tag_to_ix)\n",
    "\t\tloss_function(model(inputs),target).backward()\n",
    "\t\toptimizer.step()\n"
   ]
  },
  {
   "cell_type": "markdown",
   "metadata": {
    "id": "p_fxx5-6xCkT"
   },
   "source": [
    "### Question: compute and print the tags after the training for the input defined below."
   ]
  },
  {
   "cell_type": "code",
   "execution_count": 73,
   "metadata": {
    "colab": {
     "base_uri": "https://localhost:8080/"
    },
    "id": "aPECINfZjhxH",
    "outputId": "0ab965c6-6d38-4344-c9c3-beb40d0cb2a2"
   },
   "outputs": [
    {
     "name": "stdout",
     "output_type": "stream",
     "text": [
      "tensor([[-0.0547, -3.4119, -3.9009],\n",
      "        [-3.6310, -0.0289, -6.2381],\n",
      "        [-3.4301, -6.1423, -0.0351],\n",
      "        [-0.0469, -4.5868, -3.3348],\n",
      "        [-4.7391, -0.0097, -7.0291]])\n",
      "The dog ate the apple\n",
      "DET NN V DET NN\n"
     ]
    }
   ],
   "source": [
    "\n",
    "with torch.no_grad():\n",
    "    sentence = training_data[0][0]\n",
    "    inputs = prepare_sequence(sentence, word_to_ix)\n",
    "    tags_score = model(inputs)\n",
    "    print(tags_score)\n",
    "    tags = [get_max_prob_result(tag_val,ix_to_tag) for tag_val in tags_score]\n",
    "    print(\" \".join(sentence))\n",
    "    print(\" \".join(tags))\n"
   ]
  }
 ],
 "metadata": {
  "accelerator": "GPU",
  "colab": {
   "collapsed_sections": [],
   "name": "INUM_DL_Lab5_RNN_Solution.ipynb",
   "provenance": [],
   "toc_visible": true
  },
  "kernelspec": {
   "display_name": "Python 3 (ipykernel)",
   "language": "python",
   "name": "python3"
  },
  "language_info": {
   "codemirror_mode": {
    "name": "ipython",
    "version": 3
   },
   "file_extension": ".py",
   "mimetype": "text/x-python",
   "name": "python",
   "nbconvert_exporter": "python",
   "pygments_lexer": "ipython3",
   "version": "3.9.7"
  }
 },
 "nbformat": 4,
 "nbformat_minor": 1
}
