{
 "cells": [
  {
   "cell_type": "code",
   "execution_count": 1,
   "source": [
    "import numpy as np\n",
    "import matplotlib.pyplot as plt"
   ],
   "outputs": [],
   "metadata": {}
  },
  {
   "cell_type": "markdown",
   "source": [
    "# Exercice 1"
   ],
   "metadata": {}
  },
  {
   "cell_type": "code",
   "execution_count": 20,
   "source": [
    "def prod_vect(u,v):\n",
    "    return np.array([u[1]*v[2]-u[2]*v[1],u[2]*v[0]-u[0]*v[2],u[0]*v[1]-u[1]*v[0]])\n",
    "\n",
    "def area_tri(a,b,c):\n",
    "    u = b-a\n",
    "    v = c-a\n",
    "    return np.linalg.norm(prod_vect(u, v))/2\n",
    "\n",
    "\n",
    "def isInTriangle(a,b,c,x):\n",
    "    A1 = area_tri(a, b, x)\n",
    "    A2 = area_tri(a, x, c)\n",
    "    A3 = area_tri(x, b, c)\n",
    "    A = area_tri(a, b, c)\n",
    "    return (A==(A1+A2+A3) and A!=0)\n",
    "\n",
    "def d(x,y):\n",
    "    return np.linalg.norm(x-y)\n",
    "\n",
    "\n",
    "if __name__==\"__main__\":\n",
    "    u = np.array([1,2,3])\n",
    "    v=np.array([4,5,6])\n",
    "\n",
    "    # print(prod_vect(u, v))\n",
    "\n",
    "    a = np.array([0,0,0])\n",
    "    b = np.array([0,1,0])\n",
    "    c = np.array([1,0,0])\n",
    "    x = np.array([1/2,1/2,0])\n",
    "    # print(area_tri(a, b, c))\n",
    "    # print(isInTriangle(a, b, c, x))\n",
    "\n",
    "    data = np.genfromtxt(\"test_temperature_triangle.csv\",delimiter=\";\",dtype=float)\n",
    "    C = data[:-1,:]\n",
    "    q = data[-1,:].reshape(-1,1)\n",
    "\n",
    "    D = np.zeros((2,C.shape[1]))\n",
    "    for i,pi in enumerate(C.T):\n",
    "        D[0,i]=d(pi,x)\n",
    "        D[1,i] = i\n",
    "    sort_points = D[0,:].argsort()\n",
    "    comb = [(i,j,k) for i in sort_points for j in sort_points for k in sort_points if isInTriangle(C[:,i], C[:,j], C[:,k], x)]\n",
    "    A = np.zeros((4,len(comb)))\n",
    "    for n,c in enumerate(comb):\n",
    "        i,j,k = c\n",
    "        pi = C[:,i]\n",
    "        pj = C[:,j]\n",
    "        pk = C[:,k]\n",
    "        a = area_tri(pi, pj, pk)\n",
    "        if a==0:\n",
    "            print((pi,pj,pk))\n",
    "        A[0,n] = i\n",
    "        A[1,n] = j\n",
    "        A[2,n] = k\n",
    "        A[3,n] = a\n",
    "    n_min = np.argmin(A[3,:])\n",
    "    v = A[:,n_min]\n",
    "    i1 = int(v[0])\n",
    "    i2 = int(v[1])\n",
    "    i3 = int(v[2])\n",
    "    p1 = C[:,i1]\n",
    "    p2 = C[:,i2]\n",
    "    p3 = C[:,i3]\n",
    "\n",
    "    A1 = area_tri(p1, p2, x)\n",
    "    A2 = area_tri(p1, p3, x)\n",
    "    A3 = area_tri(p2, p3, x)\n",
    "    A = area_tri(p1, p2, p3)\n",
    "    qx = (A1*q[i1]+A2*q[i2]+A3*q[i3])[0]/A\n",
    "    print(f\"{qx = }\")"
   ],
   "outputs": [
    {
     "output_type": "stream",
     "name": "stdout",
     "text": [
      "qx = 12.5\n"
     ]
    }
   ],
   "metadata": {}
  },
  {
   "cell_type": "markdown",
   "source": [
    "# Exercice 2"
   ],
   "metadata": {}
  },
  {
   "cell_type": "code",
   "execution_count": 19,
   "source": [
    "data = np.genfromtxt(\"test_temperature_triangle.csv\",delimiter=\";\",dtype=float)\n",
    "C = data[:-1,:5]\n",
    "q = data[-1,:].reshape(-1,1)\n",
    "n = C.shape[1]\n",
    "D = np.zeros((n,n))\n",
    "\n",
    "indices = [(i,j) for i in range(n) for j in range(n) if i>j]\n",
    "\n",
    "for i,j in indices:\n",
    "    pi = C[:,i]\n",
    "    pj = C[:,j]\n",
    "    D[i,j] = d(pi,pj)\n",
    "D"
   ],
   "outputs": [
    {
     "output_type": "execute_result",
     "data": {
      "text/plain": [
       "array([[0.        , 0.        , 0.        , 0.        , 0.        ],\n",
       "       [1.        , 0.        , 0.        , 0.        , 0.        ],\n",
       "       [2.        , 1.        , 0.        , 0.        , 0.        ],\n",
       "       [1.        , 1.41421356, 2.23606798, 0.        , 0.        ],\n",
       "       [1.41421356, 1.        , 1.41421356, 1.        , 0.        ]])"
      ]
     },
     "metadata": {},
     "execution_count": 19
    }
   ],
   "metadata": {}
  }
 ],
 "metadata": {
  "orig_nbformat": 4,
  "language_info": {
   "name": "python",
   "version": "3.8.8",
   "mimetype": "text/x-python",
   "codemirror_mode": {
    "name": "ipython",
    "version": 3
   },
   "pygments_lexer": "ipython3",
   "nbconvert_exporter": "python",
   "file_extension": ".py"
  },
  "kernelspec": {
   "name": "python3",
   "display_name": "Python 3.8.8 64-bit ('base': conda)"
  },
  "interpreter": {
   "hash": "2d07a838e9fe40b82208ed7f0093f57ac201fefe2963aa6b01eb775880b4ba46"
  }
 },
 "nbformat": 4,
 "nbformat_minor": 2
}