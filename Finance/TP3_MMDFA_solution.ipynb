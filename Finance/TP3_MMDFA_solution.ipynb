{
 "cells": [
  {
   "cell_type": "code",
   "execution_count": 40,
   "metadata": {},
   "outputs": [
    {
     "name": "stdout",
     "output_type": "stream",
     "text": [
      "p = 0.8401443590294416\n"
     ]
    }
   ],
   "source": [
    "# TP 2 - Options américaines (reprendre le TP2 au début)\n",
    "\n",
    "import numpy as np\n",
    "\n",
    "n = 10 # nombre d'étapes\n",
    "T = 10 # temps final\n",
    "deltat = T/n # pas de temps\n",
    "S0 = 100 # prix initial\n",
    "# sigma = 0.1 # volatilité\n",
    "up = 1.15 # up\n",
    "down = 1/up # down\n",
    "\n",
    "# taux d'intérêt et facteur d'actualisation\n",
    "r = 0.1\n",
    "R = np.exp(r*deltat)\n",
    "\n",
    "# probabilité risque neutre\n",
    "p = (R-down)/(up-down)\n",
    "\n",
    "print(\"p =\",p)"
   ]
  },
  {
   "cell_type": "code",
   "execution_count": 41,
   "metadata": {},
   "outputs": [],
   "source": [
    "# matrice des prix de l'actif (TP1)\n",
    "def CRR(n,down,up,S0):\n",
    "    S = np.zeros((n+1,n+1))\n",
    "    S[0,0] = S0\n",
    "    for i in range(n):\n",
    "        S[i+1,0] = S[i,0]*down\n",
    "        for j in range(i+1):\n",
    "            S[i+1,j+1] = S[i,j]*up\n",
    "    return S\n"
   ]
  },
  {
   "cell_type": "code",
   "execution_count": 42,
   "metadata": {},
   "outputs": [
    {
     "data": {
      "text/plain": "array([[100.        ,   0.        ,   0.        ,   0.        ,\n          0.        ,   0.        ,   0.        ,   0.        ,\n          0.        ,   0.        ,   0.        ],\n       [ 86.95652174, 115.        ,   0.        ,   0.        ,\n          0.        ,   0.        ,   0.        ,   0.        ,\n          0.        ,   0.        ,   0.        ],\n       [ 75.61436673, 100.        , 132.25      ,   0.        ,\n          0.        ,   0.        ,   0.        ,   0.        ,\n          0.        ,   0.        ,   0.        ],\n       [ 65.75162324,  86.95652174, 115.        , 152.0875    ,\n          0.        ,   0.        ,   0.        ,   0.        ,\n          0.        ,   0.        ,   0.        ],\n       [ 57.17532456,  75.61436673, 100.        , 132.25      ,\n        174.900625  ,   0.        ,   0.        ,   0.        ,\n          0.        ,   0.        ,   0.        ],\n       [ 49.71767353,  65.75162324,  86.95652174, 115.        ,\n        152.0875    , 201.13571875,   0.        ,   0.        ,\n          0.        ,   0.        ,   0.        ],\n       [ 43.23275959,  57.17532456,  75.61436673, 100.        ,\n        132.25      , 174.900625  , 231.30607656,   0.        ,\n          0.        ,   0.        ,   0.        ],\n       [ 37.59370399,  49.71767353,  65.75162324,  86.95652174,\n        115.        , 152.0875    , 201.13571875, 266.00198805,\n          0.        ,   0.        ,   0.        ],\n       [ 32.69017738,  43.23275959,  57.17532456,  75.61436673,\n        100.        , 132.25      , 174.900625  , 231.30607656,\n        305.90228625,   0.        ,   0.        ],\n       [ 28.4262412 ,  37.59370399,  49.71767353,  65.75162324,\n         86.95652174, 115.        , 152.0875    , 201.13571875,\n        266.00198805, 351.78762919,   0.        ],\n       [ 24.71847061,  32.69017738,  43.23275959,  57.17532456,\n         75.61436673, 100.        , 132.25      , 174.900625  ,\n        231.30607656, 305.90228625, 404.55577357]])"
     },
     "execution_count": 42,
     "metadata": {},
     "output_type": "execute_result"
    }
   ],
   "source": [
    "S = CRR(n,down,up,S0)\n",
    "S"
   ]
  },
  {
   "cell_type": "code",
   "execution_count": 37,
   "metadata": {},
   "outputs": [],
   "source": [
    "# paramètres de l'option\n",
    "K = S0 # strike (ici, option à la \"monnaie\")\n",
    "\n",
    "def payoffcall(S,K):\n",
    "    phicall = max(S-K,0) # option d'achat\n",
    "    return phicall\n",
    "\n",
    "def payoffput(S,K):\n",
    "    phiput = max(K-S,0) # option de vente\n",
    "    return phiput\n"
   ]
  },
  {
   "cell_type": "code",
   "execution_count": 45,
   "metadata": {},
   "outputs": [
    {
     "data": {
      "text/plain": "25.11239014419344"
     },
     "execution_count": 45,
     "metadata": {},
     "output_type": "execute_result"
    }
   ],
   "source": [
    "# évaluation du prix d'un call européen par récurrence rétrograde\n",
    "C = np.zeros((n+1,n+1))\n",
    "for j in range(n+1):\n",
    "    C[n,j] = payoffcall(S[n,j],K)\n",
    "for i in range(n-1,-1,-1):\n",
    "    for j in range(i+1):\n",
    "        C[i,j] = (p*C[i+1,j+1]+(1-p)*C[i+1,j])/R\n",
    "C[6,2]"
   ]
  },
  {
   "cell_type": "code",
   "execution_count": 46,
   "metadata": {},
   "outputs": [
    {
     "name": "stdout",
     "output_type": "stream",
     "text": [
      "La prime du contrat call européen vaut C0 = 72.18448721712731\n"
     ]
    }
   ],
   "source": [
    "print(\"La prime du contrat call européen vaut C0 =\",C[0,0])"
   ]
  },
  {
   "cell_type": "code",
   "execution_count": 7,
   "metadata": {
    "scrolled": true
   },
   "outputs": [
    {
     "data": {
      "image/png": "[encoded data removed]",
      "text/plain": "<Figure size 432x288 with 1 Axes>"
     },
     "metadata": {
      "needs_background": "light"
     },
     "output_type": "display_data"
    }
   ],
   "source": [
    "# librairies graphiques\n",
    "import matplotlib.pyplot as plt\n",
    "import matplotlib.collections as mc\n",
    "\n",
    "# liste des couples de points\n",
    "lines = []\n",
    "for i in range(0,n+1,20):\n",
    "    for j in range(i):\n",
    "        lines.append([(S[i,j],C[i,j]),(S[i,j+1],C[i,j+1])])\n",
    "\n",
    "# plot\n",
    "lc = mc.LineCollection(lines, cmap=plt.cm.rainbow, linewidths=2)\n",
    "fig,ax = plt.subplots()\n",
    "ax.set_xlim(0,S.max())\n",
    "ax.set_ylim(0,C.max())\n",
    "ax.add_collection(lc)\n",
    "plt.show()\n"
   ]
  },
  {
   "cell_type": "code",
   "execution_count": 8,
   "metadata": {},
   "outputs": [],
   "source": [
    "# évaluation du prix d'un call américain par récurrence rétrograde\n",
    "CA = np.zeros((n+1,n+1))\n",
    "for j in range(n+1):\n",
    "    CA[n,j] = payoffcall(S[n,j],K)\n",
    "for i in range(n-1,-1,-1):\n",
    "    for j in range(i+1):\n",
    "        CA[i,j] = max(payoffcall(S[i,j],K),(p*CA[i+1,j+1]+(1-p)*CA[i+1,j])/R)\n"
   ]
  },
  {
   "cell_type": "code",
   "execution_count": 9,
   "metadata": {},
   "outputs": [
    {
     "data": {
      "image/png": "[encoded data removed]",
      "text/plain": "<Figure size 432x288 with 1 Axes>"
     },
     "metadata": {
      "needs_background": "light"
     },
     "output_type": "display_data"
    }
   ],
   "source": [
    "# on représente l'option américaine en fonction du prix de l'actif\n",
    "lines = []\n",
    "for i in range(0,n+1,20):\n",
    "    for j in range(i):\n",
    "        lines.append([(S[i,j],CA[i,j]),(S[i,j+1],CA[i,j+1])])\n",
    "\n",
    "# plot\n",
    "lc = mc.LineCollection(lines, cmap=plt.cm.rainbow, linewidths=2)\n",
    "fig,ax = plt.subplots()\n",
    "ax.set_xlim(0,S.max())\n",
    "ax.set_ylim(0,C.max())\n",
    "ax.add_collection(lc)\n",
    "plt.show()\n"
   ]
  },
  {
   "cell_type": "code",
   "execution_count": 10,
   "metadata": {},
   "outputs": [],
   "source": [
    "# put européen\n",
    "P = np.zeros((n+1,n+1))\n",
    "for j in range(n+1):\n",
    "    P[n,j] = payoffput(S[n,j],K)\n",
    "for i in range(n-1,-1,-1):\n",
    "    for j in range(i+1):\n",
    "        P[i,j] = (p*P[i+1,j+1]+(1-p)*P[i+1,j])/R\n",
    "\n",
    "# put américain\n",
    "PA = np.zeros((n+1,n+1))\n",
    "for j in range(n+1):\n",
    "    PA[n,j] = payoffput(S[n,j],K)\n",
    "for i in range(n-1,-1,-1):\n",
    "    for j in range(i+1):\n",
    "        PA[i,j] = max(payoffput(S[i,j],K),(p*PA[i+1,j+1]+(1-p)*PA[i+1,j])/R)\n"
   ]
  },
  {
   "cell_type": "code",
   "execution_count": 11,
   "metadata": {},
   "outputs": [
    {
     "data": {
      "image/png": "[encoded data removed]",
      "text/plain": "<Figure size 432x288 with 1 Axes>"
     },
     "metadata": {
      "needs_background": "light"
     },
     "output_type": "display_data"
    }
   ],
   "source": [
    "# on représente le put européen en fonction du prix de l'actif\n",
    "lines = []\n",
    "for i in range(0,n+1,20):\n",
    "    for j in range(i):\n",
    "        lines.append([(S[i,j],P[i,j]),(S[i,j+1],P[i,j+1])])\n",
    "\n",
    "# plot\n",
    "lc = mc.LineCollection(lines, cmap=plt.cm.rainbow, linewidths=2)\n",
    "fig,ax = plt.subplots()\n",
    "ax.set_xlim(0,S.max())\n",
    "ax.set_ylim(0,C.max())\n",
    "ax.add_collection(lc)\n",
    "plt.show()\n"
   ]
  },
  {
   "cell_type": "code",
   "execution_count": 12,
   "metadata": {},
   "outputs": [
    {
     "data": {
      "image/png": "[encoded data removed]",
      "text/plain": "<Figure size 432x288 with 1 Axes>"
     },
     "metadata": {
      "needs_background": "light"
     },
     "output_type": "display_data"
    }
   ],
   "source": [
    "# on représente le put américain en fonction du prix de l'actif\n",
    "lines = []\n",
    "for i in range(0,n+1,20):\n",
    "    for j in range(i):\n",
    "        lines.append([(S[i,j],PA[i,j]),(S[i,j+1],PA[i,j+1])])\n",
    "\n",
    "# plot\n",
    "lc = mc.LineCollection(lines, cmap=plt.cm.rainbow, linewidths=2)\n",
    "fig,ax = plt.subplots()\n",
    "ax.set_xlim(0,S.max())\n",
    "ax.set_ylim(0,C.max())\n",
    "ax.add_collection(lc)\n",
    "plt.show()\n"
   ]
  },
  {
   "cell_type": "code",
   "execution_count": 27,
   "metadata": {},
   "outputs": [
    {
     "name": "stdout",
     "output_type": "stream",
     "text": [
      "Les primes sont: call européen: 63.231005494781684  - call américain: 63.231005494781684\n",
      "Les primes sont: put européen: 0.018949611925903057  - put américain: 2.156126698056177\n"
     ]
    },
    {
     "data": {
      "text/plain": "75.61436672967865"
     },
     "execution_count": 27,
     "metadata": {},
     "output_type": "execute_result"
    }
   ],
   "source": [
    "print('Les primes sont: call européen:',C[0,0],' - call américain:',CA[0,0])\n",
    "print('Les primes sont: put européen:',P[0,0],' - put américain:',PA[0,0])\n",
    "\n",
    "price = S0*down**(4)*up**2\n",
    "\n",
    "payoffput(price,K)\n",
    "price\n"
   ]
  },
  {
   "cell_type": "code",
   "execution_count": 17,
   "metadata": {},
   "outputs": [],
   "source": [
    "# frontière d'exercice du put américain\n",
    "EPA = 3*np.ones((n+1,n+1)) # 0 si on attend, 1 si on exerce\n",
    "for j in range(n+1):\n",
    "    if S[n,j]<=K:\n",
    "        EPA[n,j]=1\n",
    "    else:\n",
    "        EPA[n,j]=0\n",
    "for i in range(n-1,-1,-1):\n",
    "    for j in range(i+1):\n",
    "        if payoffput(S[i,j],K) > (p*PA[i+1,j+1]+(1-p)*PA[i+1,j])/R:\n",
    "            EPA[i,j]=1\n",
    "        else:\n",
    "            EPA[i,j]=0\n"
   ]
  },
  {
   "cell_type": "code",
   "execution_count": 18,
   "metadata": {},
   "outputs": [
    {
     "data": {
      "image/png": "[encoded data removed]",
      "text/plain": "<Figure size 432x288 with 1 Axes>"
     },
     "metadata": {
      "needs_background": "light"
     },
     "output_type": "display_data"
    }
   ],
   "source": [
    "for i in range(n+1):\n",
    "    for j in range(i+1):\n",
    "        if EPA[i,j]==1: # exercice anticipé\n",
    "            plt.plot(i,S[i,j],'ro')\n",
    "        else: # on attend (pas d'exercice anticipé)\n",
    "            plt.plot(i,S[i,j],'b+')\n"
   ]
  },
  {
   "cell_type": "code",
   "execution_count": 19,
   "metadata": {},
   "outputs": [
    {
     "data": {
      "text/plain": "array([ 0.        , 86.95652174, 75.61436673, 86.95652174, 75.61436673,\n       86.95652174, 75.61436673, 86.95652174, 75.61436673, 86.95652174,\n       75.61436673])"
     },
     "execution_count": 19,
     "metadata": {},
     "output_type": "execute_result"
    }
   ],
   "source": [
    "# recherche de la frontière\n",
    "F = np.zeros(n+1) # prix correspondant à l'indice maximal de la zone rouge\n",
    "for i in range(n+1):\n",
    "    prixrouge = S[i,EPA[i,:]==1] # prix de la zone rouge\n",
    "    if prixrouge.size>0:\n",
    "        F[i] = np.amax(prixrouge) # on récupère le prix max des rouges\n",
    "F"
   ]
  },
  {
   "cell_type": "code",
   "execution_count": null,
   "metadata": {},
   "outputs": [],
   "source": [
    "# on dessine la frontière rouge\n",
    "indice = np.amin(np.nonzero(F)) # indice temporel du début de la zone rouge\n",
    "plt.plot(range(indice,n+1),F[indice:n+1])"
   ]
  },
  {
   "cell_type": "code",
   "execution_count": null,
   "metadata": {},
   "outputs": [],
   "source": []
  },
  {
   "cell_type": "code",
   "execution_count": null,
   "metadata": {},
   "outputs": [],
   "source": []
  }
 ],
 "metadata": {
  "interpreter": {
   "hash": "2d07a838e9fe40b82208ed7f0093f57ac201fefe2963aa6b01eb775880b4ba46"
  },
  "kernelspec": {
   "display_name": "Python 3.8.5 64-bit ('base': conda)",
   "name": "python3"
  },
  "language_info": {
   "codemirror_mode": {
    "name": "ipython",
    "version": 3
   },
   "file_extension": ".py",
   "mimetype": "text/x-python",
   "name": "python",
   "nbconvert_exporter": "python",
   "pygments_lexer": "ipython3",
   "version": "3.8.5"
  }
 },
 "nbformat": 4,
 "nbformat_minor": 4
}