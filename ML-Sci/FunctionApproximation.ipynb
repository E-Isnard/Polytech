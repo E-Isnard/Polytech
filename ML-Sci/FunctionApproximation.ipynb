{
 "cells": [
  {
   "cell_type": "markdown",
   "source": [
    "# Function Approximation with PyTorch\n",
    "\n",
    "The objective of this tutorial is to learn the function\n",
    "\n",
    "$$u = sin(x), \\quad x\\in(0, 2\\pi)$$\n",
    "\n",
    "by using feed-forward dense neural networks implemented within the framework of PyTorch."
   ],
   "metadata": {}
  },
  {
   "cell_type": "code",
   "execution_count": 116,
   "source": [
    "import torch\n",
    "import torch.nn as nn\n",
    "import torch.optim as optim\n",
    "import torch.utils\n",
    "import torch.utils.data\n",
    "from torch.utils.data import DataLoader\n",
    "import matplotlib.pyplot as plt\n",
    "import numpy as np"
   ],
   "outputs": [],
   "metadata": {}
  },
  {
   "cell_type": "code",
   "execution_count": 117,
   "source": [
    "# Set random seed for reproducibility\n",
    "torch.manual_seed(42)\n",
    "np.random.seed(42)"
   ],
   "outputs": [],
   "metadata": {}
  },
  {
   "cell_type": "code",
   "execution_count": 118,
   "source": [
    "# Define the exact solution\n",
    "def exact_solution(x):\n",
    "    return torch.sin(x)"
   ],
   "outputs": [],
   "metadata": {}
  },
  {
   "cell_type": "markdown",
   "source": [
    "$\\mathbf{\\text{Step 1: Dataset Generation}}$\n",
    "\n",
    "We are going to use the training set \n",
    "\n",
    "$$S=\\{ (x_i, u_i), ~i=1,...,n \\}$$ \n",
    "\n",
    "with \n",
    "\n",
    "$$x_i \\sim U\\big(0, 2\\pi\\big), \\quad u_i \\sim N\\big(sin(x_i), \\sigma\\big).$$\n",
    "\n",
    "Here, $U(a,b)$ is a uniform random distribution between $a$ and $b$, and $N(\\mu, \\sigma)$ is a normal distribution with mean $\\mu$ and standard deviation $\\sigma$"
   ],
   "metadata": {}
  },
  {
   "cell_type": "code",
   "execution_count": 119,
   "source": [
    "# Type of optimizer (ADAM or LBFGS)\n",
    "opt_type = \"LBFGS\"\n",
    "# Random Seed for dataset generation\n",
    "sampling_seed = 78\n",
    "torch.manual_seed(sampling_seed)\n",
    "\n",
    "# Number of training samples\n",
    "n_samples = 300\n",
    "# Noise level\n",
    "sigma = 0.0\n",
    "\n",
    "x = 2*np.pi*torch.rand((n_samples, 1))\n",
    "y = exact_solution(x)*(1 + sigma*torch.randn(x.shape))\n",
    "\n",
    "\n",
    "batch_size = n_samples\n",
    "training_set = DataLoader(torch.utils.data.TensorDataset(x, y), batch_size=batch_size, shuffle=True)\n",
    "\n",
    "plt.grid(True, which=\"both\", ls=\":\")\n",
    "plt.scatter(x,y)\n",
    "plt.xlabel(\"x\")\n",
    "plt.ylabel(\"u\")"
   ],
   "outputs": [
    {
     "output_type": "execute_result",
     "data": {
      "text/plain": [
       "Text(0, 0.5, 'u')"
      ]
     },
     "metadata": {},
     "execution_count": 119
    },
    {
     "output_type": "display_data",
     "data": {
      "image/png": "[encoded data removed]",
      "text/plain": [
       "<Figure size 432x288 with 1 Axes>"
      ]
     },
     "metadata": {
      "needs_background": "light"
     }
    }
   ],
   "metadata": {}
  },
  {
   "cell_type": "markdown",
   "source": [
    "$\\mathbf{\\text{Step 2: Model Generation}}$\n",
    "\n",
    "We use feedforward neural (also termed as a multi-layer perceptron) network to approximate the function\n",
    "\n",
    "$$ u = sin(x)$$\n",
    "\n",
    "Given an input $x \\in D \\subset R^n$, a feedforward neural network transforms it to an output $u_\\theta(x)\\in R^m$, through a layer of units (neurons) which compose of either affine-linear maps between units (in successive layers) or scalar non-linear activation functions within units, resulting in the representation,\n",
    "\n",
    "$$u_{\\theta}(x) = C_K \\circ A \\circ C_{K-1}\\ldots \\ldots \\ldots \\circ A\\circ C_2 \\circ A\\circ C_1(x).$$\n",
    "\n",
    "Here, $\\circ$ refers to the composition of functions and $A$ is a scalar (non-linear) activation function. For any $1 \\leq k \\leq K$, we define\n",
    "\n",
    "$$\n",
    "C_k z_k = W_k z_k + b_k, \\quad {\\rm for} ~ W_k \\in R^{d_{k+1} \\times d_k}, z_k \\in R^{d_k}, b_k \\in R^{d_{k+1}}.\n",
    "$$\n",
    "\n",
    "We also denote, \n",
    "$$\n",
    "\\theta = \\{W_k, b_k\\}, \\theta_W = \\{ W_k \\}\\quad \\forall~ 1 \\leq k \\leq K,\n",
    "$$\n",
    "to be the concatenated set of (tunable) weights for our network."
   ],
   "metadata": {}
  },
  {
   "cell_type": "markdown",
   "source": [],
   "metadata": {}
  },
  {
   "cell_type": "code",
   "execution_count": 120,
   "source": [
    "class NeuralNet(nn.Module):\n",
    "\n",
    "    def __init__(self, input_dimension, output_dimension, n_hidden_layers, neurons):\n",
    "        super(NeuralNet, self).__init__()\n",
    "        # Number of input dimensions n\n",
    "        self.input_dimension = input_dimension\n",
    "        # Number of output dimensions m\n",
    "        self.output_dimension = output_dimension\n",
    "        # Number of neurons per layer \n",
    "        self.neurons = neurons\n",
    "        # Number of hidden layers \n",
    "        self.n_hidden_layers = n_hidden_layers\n",
    "        # Activation function \n",
    "        self.activation = nn.Tanh()\n",
    "        \n",
    "        self.input_layer = nn.Linear(self.input_dimension, self.neurons)\n",
    "        self.hidden_layers = nn.ModuleList([nn.Linear(self.neurons, self.neurons) for _ in range(n_hidden_layers)])\n",
    "        self.output_layer = nn.Linear(self.neurons, self.output_dimension)\n",
    "        \n",
    "        for name, param in self.named_parameters():\n",
    "            #if 'input_layer' in name and 'bias' in name:\n",
    "                # nn.init.zeros_(param)\n",
    "                # print(param)\n",
    "            print(name,param.size())\n",
    "\n",
    "\n",
    "    def forward(self, x):\n",
    "        # The forward function performs the set of affine and non-linear transformations defining the network \n",
    "        # (see equation above)\n",
    "        x = self.activation(self.input_layer(x))\n",
    "        for k, l in enumerate(self.hidden_layers):\n",
    "            x = self.activation(l(x))\n",
    "        return self.output_layer(x)\n",
    "\n",
    "def NeuralNet_Seq(input_dimension, output_dimension, n_hidden_layers, neurons):\n",
    "    modules = list()\n",
    "    modules.append(nn.Linear(input_dimension, neurons))\n",
    "    modules.append(nn.Tanh())\n",
    "    for _ in range(n_hidden_layers):\n",
    "        modules.append(nn.Linear(neurons, neurons))\n",
    "        modules.append(nn.Tanh())\n",
    "    modules.append(nn.Linear(neurons, output_dimension))\n",
    "    model =  nn.Sequential(*modules)\n",
    "    return model\n",
    "\n",
    "  \n"
   ],
   "outputs": [],
   "metadata": {}
  },
  {
   "cell_type": "code",
   "execution_count": 121,
   "source": [
    "# Model definition\n",
    "my_network = NeuralNet(input_dimension=x.shape[1], output_dimension=y.shape[1], n_hidden_layers=4, neurons=20)\n",
    "# my_network = NeuralNet_Seq(input_dimension=x.shape[1], output_dimension=y.shape[1], n_hidden_layers=4, neurons=20)"
   ],
   "outputs": [
    {
     "output_type": "stream",
     "name": "stdout",
     "text": [
      "input_layer.weight torch.Size([20, 1])\n",
      "input_layer.bias torch.Size([20])\n",
      "hidden_layers.0.weight torch.Size([20, 20])\n",
      "hidden_layers.0.bias torch.Size([20])\n",
      "hidden_layers.1.weight torch.Size([20, 20])\n",
      "hidden_layers.1.bias torch.Size([20])\n",
      "hidden_layers.2.weight torch.Size([20, 20])\n",
      "hidden_layers.2.bias torch.Size([20])\n",
      "hidden_layers.3.weight torch.Size([20, 20])\n",
      "hidden_layers.3.bias torch.Size([20])\n",
      "output_layer.weight torch.Size([1, 20])\n",
      "output_layer.bias torch.Size([1])\n"
     ]
    }
   ],
   "metadata": {}
  },
  {
   "cell_type": "markdown",
   "source": [
    "#### Weight initialization\n",
    "The initialization of the weights is of fundamental importance for the proper\n",
    "training of the model, in particular when it comes to non-convex optimization. A common way of initializing the weights is the following (Xavier initialization):\n",
    "\n",
    "$$W_k \\sim N(0, \\sigma^k_W), \\quad \\sigma_W^k= g \\sqrt{\\frac{2}{d_k + d_{k+1}}}$$\n",
    "\n",
    "or \n",
    "$$W_k \\sim U(-l^k_W,l^k_W), \\quad l^k_W= g \\sqrt{\\frac{6}{d_k + d_{k+1}}}$$\n",
    "\n",
    "with $g=1$ for hyperbolic tangent activation and $g = \\sqrt{2}$ for ReLU activation function.\n",
    "\n",
    "This weights initialization guarantees a constant variance  of the variables $z_k$ as the\n",
    "inputs are forward propagated (check http://proceedings.mlr.press/v9/glorot10a/glorot10a.pdf) "
   ],
   "metadata": {}
  },
  {
   "cell_type": "code",
   "execution_count": 122,
   "source": [
    "def init_xavier(model, retrain_seed):\n",
    "    torch.manual_seed(retrain_seed)\n",
    "    def init_weights(m):\n",
    "        if type(m) == nn.Linear and m.weight.requires_grad and m.bias.requires_grad:\n",
    "            g = nn.init.calculate_gain('tanh')\n",
    "            torch.nn.init.xavier_uniform_(m.weight, gain=g)\n",
    "            #torch.nn.init.xavier_normal_(m.weight, gain=g)\n",
    "            m.bias.data.fill_(0)\n",
    "    model.apply(init_weights)\n",
    "\n",
    "# Random Seed for weight initialization\n",
    "retrain = 8\n",
    "# Xavier weight initialization\n",
    "init_xavier(my_network, retrain)\n",
    "# Model definition\n",
    "\n",
    "# Predict network value of x\n",
    "print(torch.mean(my_network(x)),torch.std(my_network(x)))\n",
    "# print(my_network(x))"
   ],
   "outputs": [
    {
     "output_type": "stream",
     "name": "stdout",
     "text": [
      "tensor(0.2792, grad_fn=<MeanBackward0>) tensor(0.2798, grad_fn=<StdBackward>)\n"
     ]
    }
   ],
   "metadata": {}
  },
  {
   "cell_type": "markdown",
   "source": [
    "$\\mathbf{\\text{Step 3: Model Training}}$\n",
    "\n",
    "The neural network $u_{\\theta}$ depends on the tuning parameter $\\theta \\in \\Theta$ of weights and biases. Within the standard paradigm of {deep learning}, one {trains} the network by finding tuning parameters $\\theta$ such that a suitable loss function $J(\\theta)$ is minimized.\n",
    "\n",
    "$${\\rm Find}~\\theta^{\\ast} \\in \\Theta:\\quad \\theta^{\\ast} = {\\rm arg}\\min\\limits_{\\theta \\in \\Theta} \\left( J(\\theta)\\right).$$\n",
    "\n",
    "The loss function, for instance, can be chosen as the mean square error between the neural network and the underlying target:\n",
    "\n",
    "$$ J(\\theta) = \\sum_{i}^n \\Big(u_i - u_\\theta(x_i)\\Big)^2$$\n",
    "\n",
    "The optimization process is realized with the gradient descent (or more precisely with variants of the gradient descent such as Adam or SGD)."
   ],
   "metadata": {}
  },
  {
   "cell_type": "code",
   "execution_count": 123,
   "source": [
    "if opt_type == \"ADAM\":\n",
    "    optimizer_ = optim.Adam(my_network.parameters(), lr=0.001)\n",
    "elif opt_type == \"LBFGS\":\n",
    "    optimizer_ = optim.LBFGS(my_network.parameters(), lr=0.1, max_iter=1, max_eval=50000, tolerance_change=1.0 * np.finfo(float).eps)\n",
    "else:\n",
    "    raise ValueError(\"Optimizer not recognized\")"
   ],
   "outputs": [],
   "metadata": {}
  },
  {
   "cell_type": "markdown",
   "source": [
    "#### LBFGS Optimizer (Generic Idea)\n",
    "\n",
    "Let us consider a generic function $f: x\\mapsto f(x)$, $x\\in R^d$ and $f(x)\\in R$. The taylor approximation of $\\nabla f$ in a neighbourhood of $x_k$ is\n",
    "\n",
    "$$\\nabla f(x_k + \\delta x) = \\nabla f(x_k) + H_k\\delta x$$\n",
    "\n",
    "with $H_k$ being the Hessian of $f$ at $x_k$.\n",
    "We would like to find the vector $ \\delta x$ such that\n",
    "\n",
    "$$\\nabla f(x_k + \\delta x) = 0$$\n",
    "\n",
    "This leads to \n",
    "\n",
    "$$x_{k+1} = x_k - H_k^{-1}\\nabla f \\quad \\text{(Newton Method)}$$\n",
    "\n",
    "The idea of Quasi-Newton methods (LBFGS belong to this class) is to approximate $H$ with a positive definite matrix $B$, which is easier to compute:\n",
    "\n",
    "$$x_{k+1} = x_k  = - B_{k}^{-1}\\nabla f \\quad \\text{(Quasi - Newton Method)}$$\n",
    "\n",
    "The matrix B has to satisfy the following conditions:\n",
    "- Positive definiteness\n",
    "- $B_k$ and $B_{k+1}$ \"sufficiently close\"\n",
    "- Secant equation  $$ B_{k+1}[x_{k+1} - x_k] = \\nabla f(x_{k+1}) - \\nabla f(x_{k})$$\n",
    "\n",
    "A constraint minimization problem can be set to find the update formula for $B_k$\n",
    "(check https://towardsdatascience.com/bfgs-in-a-nutshell-an-introduction-to-quasi-newton-methods-21b0e13ee504)"
   ],
   "metadata": {}
  },
  {
   "cell_type": "code",
   "execution_count": 144,
   "source": [
    "def fit(model, training_set, num_epochs, optimizer, p,q=2, verbose=True):\n",
    "    history = list()\n",
    "    \n",
    "    # Loop over epochs\n",
    "    for epoch in range(num_epochs):\n",
    "        if verbose: print(\"################################ \", epoch, \" ################################\")\n",
    "\n",
    "        running_loss = list([0])\n",
    "        \n",
    "        # Loop over batches\n",
    "        for j, (x_train_, u_train_) in enumerate(training_set):\n",
    "            \n",
    "            def closure():\n",
    "                # zero the parameter gradients\n",
    "                optimizer.zero_grad()\n",
    "                # forward + backward + optimize\n",
    "                u_pred_ = model(x_train_)\n",
    "                # Item 1. below\n",
    "                loss = torch.mean(torch.abs((u_pred_.reshape(-1, ) - u_train_.reshape(-1, )))**p)\n",
    "                # Item 2. below\n",
    "                loss.backward()\n",
    "                # Compute average training loss over batches for the current epoch\n",
    "                running_loss[0] += loss.item()\n",
    "                return loss\n",
    "            \n",
    "            # Item 3. below\n",
    "            optimizer.step(closure=closure)\n",
    "\n",
    "        if verbose:    \n",
    "            print('Loss: ', (running_loss[0] / len(training_set)))\n",
    "        history.append(running_loss[0])\n",
    "\n",
    "    return history"
   ],
   "outputs": [],
   "metadata": {}
  },
  {
   "cell_type": "markdown",
   "source": [
    "1. Compute the loss function over the batch $j$:\n",
    "$J_S(\\theta)=\\sum_{x_i \\in {S}_j}^n \\Big(u_i - u_\\theta(x_i)\\Big)^2$\n",
    "\n",
    "2. Compute the gradient of $J_S(\\theta)$ with respect to the network parameters:  $\\nabla_\\theta J_S(\\theta)$\n",
    "\n",
    "3. Update the parameters according to the chosen optimizer, for instance for minibatch gradient descent $\\theta_{k+1} = \\theta_{k} - \\eta \\nabla_\\theta J_S(\\theta_{k}) $ with $k=1,...,(n_{epoch} n_{batch})$ and $\\eta$ being the learnng rate (argument $lr$ in the optimizer)."
   ],
   "metadata": {}
  },
  {
   "cell_type": "code",
   "execution_count": 125,
   "source": [
    "n_epochs = 2500\n",
    "history = fit(my_network, training_set, n_epochs, optimizer_, p=2,verbose=False )"
   ],
   "outputs": [
    {
     "output_type": "error",
     "ename": "AttributeError",
     "evalue": "'generator' object has no attribute 'dim'",
     "traceback": [
      "\u001b[0;31m---------------------------------------------------------------------------\u001b[0m",
      "\u001b[0;31mAttributeError\u001b[0m                            Traceback (most recent call last)",
      "\u001b[0;32m<ipython-input-125-aa2948fec625>\u001b[0m in \u001b[0;36m<module>\u001b[0;34m\u001b[0m\n\u001b[1;32m      1\u001b[0m \u001b[0mn_epochs\u001b[0m \u001b[0;34m=\u001b[0m \u001b[0;36m2500\u001b[0m\u001b[0;34m\u001b[0m\u001b[0;34m\u001b[0m\u001b[0m\n\u001b[0;32m----> 2\u001b[0;31m \u001b[0mhistory\u001b[0m \u001b[0;34m=\u001b[0m \u001b[0mfit\u001b[0m\u001b[0;34m(\u001b[0m\u001b[0mmy_network\u001b[0m\u001b[0;34m,\u001b[0m \u001b[0mtraining_set\u001b[0m\u001b[0;34m,\u001b[0m \u001b[0mn_epochs\u001b[0m\u001b[0;34m,\u001b[0m \u001b[0moptimizer_\u001b[0m\u001b[0;34m,\u001b[0m \u001b[0mp\u001b[0m\u001b[0;34m=\u001b[0m\u001b[0;36m2\u001b[0m\u001b[0;34m,\u001b[0m\u001b[0mverbose\u001b[0m\u001b[0;34m=\u001b[0m\u001b[0;32mFalse\u001b[0m \u001b[0;34m)\u001b[0m\u001b[0;34m\u001b[0m\u001b[0;34m\u001b[0m\u001b[0m\n\u001b[0m",
      "\u001b[0;32m<ipython-input-124-115a032c42de>\u001b[0m in \u001b[0;36mfit\u001b[0;34m(model, training_set, num_epochs, optimizer, p, q, verbose)\u001b[0m\n\u001b[1;32m     25\u001b[0m \u001b[0;34m\u001b[0m\u001b[0m\n\u001b[1;32m     26\u001b[0m             \u001b[0;31m# Item 3. below\u001b[0m\u001b[0;34m\u001b[0m\u001b[0;34m\u001b[0m\u001b[0;34m\u001b[0m\u001b[0m\n\u001b[0;32m---> 27\u001b[0;31m             \u001b[0moptimizer\u001b[0m\u001b[0;34m.\u001b[0m\u001b[0mstep\u001b[0m\u001b[0;34m(\u001b[0m\u001b[0mclosure\u001b[0m\u001b[0;34m=\u001b[0m\u001b[0mclosure\u001b[0m\u001b[0;34m)\u001b[0m\u001b[0;34m\u001b[0m\u001b[0;34m\u001b[0m\u001b[0m\n\u001b[0m\u001b[1;32m     28\u001b[0m \u001b[0;34m\u001b[0m\u001b[0m\n\u001b[1;32m     29\u001b[0m         \u001b[0;32mif\u001b[0m \u001b[0mverbose\u001b[0m\u001b[0;34m:\u001b[0m\u001b[0;34m\u001b[0m\u001b[0;34m\u001b[0m\u001b[0m\n",
      "\u001b[0;32m~/anaconda3/lib/python3.8/site-packages/torch/optim/optimizer.py\u001b[0m in \u001b[0;36mwrapper\u001b[0;34m(*args, **kwargs)\u001b[0m\n\u001b[1;32m     86\u001b[0m                 \u001b[0mprofile_name\u001b[0m \u001b[0;34m=\u001b[0m \u001b[0;34m\"Optimizer.step#{}.step\"\u001b[0m\u001b[0;34m.\u001b[0m\u001b[0mformat\u001b[0m\u001b[0;34m(\u001b[0m\u001b[0mobj\u001b[0m\u001b[0;34m.\u001b[0m\u001b[0m__class__\u001b[0m\u001b[0;34m.\u001b[0m\u001b[0m__name__\u001b[0m\u001b[0;34m)\u001b[0m\u001b[0;34m\u001b[0m\u001b[0;34m\u001b[0m\u001b[0m\n\u001b[1;32m     87\u001b[0m                 \u001b[0;32mwith\u001b[0m \u001b[0mtorch\u001b[0m\u001b[0;34m.\u001b[0m\u001b[0mautograd\u001b[0m\u001b[0;34m.\u001b[0m\u001b[0mprofiler\u001b[0m\u001b[0;34m.\u001b[0m\u001b[0mrecord_function\u001b[0m\u001b[0;34m(\u001b[0m\u001b[0mprofile_name\u001b[0m\u001b[0;34m)\u001b[0m\u001b[0;34m:\u001b[0m\u001b[0;34m\u001b[0m\u001b[0;34m\u001b[0m\u001b[0m\n\u001b[0;32m---> 88\u001b[0;31m                     \u001b[0;32mreturn\u001b[0m \u001b[0mfunc\u001b[0m\u001b[0;34m(\u001b[0m\u001b[0;34m*\u001b[0m\u001b[0margs\u001b[0m\u001b[0;34m,\u001b[0m \u001b[0;34m**\u001b[0m\u001b[0mkwargs\u001b[0m\u001b[0;34m)\u001b[0m\u001b[0;34m\u001b[0m\u001b[0;34m\u001b[0m\u001b[0m\n\u001b[0m\u001b[1;32m     89\u001b[0m             \u001b[0;32mreturn\u001b[0m \u001b[0mwrapper\u001b[0m\u001b[0;34m\u001b[0m\u001b[0;34m\u001b[0m\u001b[0m\n\u001b[1;32m     90\u001b[0m \u001b[0;34m\u001b[0m\u001b[0m\n",
      "\u001b[0;32m~/anaconda3/lib/python3.8/site-packages/torch/autograd/grad_mode.py\u001b[0m in \u001b[0;36mdecorate_context\u001b[0;34m(*args, **kwargs)\u001b[0m\n\u001b[1;32m     26\u001b[0m         \u001b[0;32mdef\u001b[0m \u001b[0mdecorate_context\u001b[0m\u001b[0;34m(\u001b[0m\u001b[0;34m*\u001b[0m\u001b[0margs\u001b[0m\u001b[0;34m,\u001b[0m \u001b[0;34m**\u001b[0m\u001b[0mkwargs\u001b[0m\u001b[0;34m)\u001b[0m\u001b[0;34m:\u001b[0m\u001b[0;34m\u001b[0m\u001b[0;34m\u001b[0m\u001b[0m\n\u001b[1;32m     27\u001b[0m             \u001b[0;32mwith\u001b[0m \u001b[0mself\u001b[0m\u001b[0;34m.\u001b[0m\u001b[0m__class__\u001b[0m\u001b[0;34m(\u001b[0m\u001b[0;34m)\u001b[0m\u001b[0;34m:\u001b[0m\u001b[0;34m\u001b[0m\u001b[0;34m\u001b[0m\u001b[0m\n\u001b[0;32m---> 28\u001b[0;31m                 \u001b[0;32mreturn\u001b[0m \u001b[0mfunc\u001b[0m\u001b[0;34m(\u001b[0m\u001b[0;34m*\u001b[0m\u001b[0margs\u001b[0m\u001b[0;34m,\u001b[0m \u001b[0;34m**\u001b[0m\u001b[0mkwargs\u001b[0m\u001b[0;34m)\u001b[0m\u001b[0;34m\u001b[0m\u001b[0;34m\u001b[0m\u001b[0m\n\u001b[0m\u001b[1;32m     29\u001b[0m         \u001b[0;32mreturn\u001b[0m \u001b[0mcast\u001b[0m\u001b[0;34m(\u001b[0m\u001b[0mF\u001b[0m\u001b[0;34m,\u001b[0m \u001b[0mdecorate_context\u001b[0m\u001b[0;34m)\u001b[0m\u001b[0;34m\u001b[0m\u001b[0;34m\u001b[0m\u001b[0m\n\u001b[1;32m     30\u001b[0m \u001b[0;34m\u001b[0m\u001b[0m\n",
      "\u001b[0;32m~/anaconda3/lib/python3.8/site-packages/torch/optim/lbfgs.py\u001b[0m in \u001b[0;36mstep\u001b[0;34m(self, closure)\u001b[0m\n\u001b[1;32m    309\u001b[0m \u001b[0;34m\u001b[0m\u001b[0m\n\u001b[1;32m    310\u001b[0m         \u001b[0;31m# evaluate initial f(x) and df/dx\u001b[0m\u001b[0;34m\u001b[0m\u001b[0;34m\u001b[0m\u001b[0;34m\u001b[0m\u001b[0m\n\u001b[0;32m--> 311\u001b[0;31m         \u001b[0morig_loss\u001b[0m \u001b[0;34m=\u001b[0m \u001b[0mclosure\u001b[0m\u001b[0;34m(\u001b[0m\u001b[0;34m)\u001b[0m\u001b[0;34m\u001b[0m\u001b[0;34m\u001b[0m\u001b[0m\n\u001b[0m\u001b[1;32m    312\u001b[0m         \u001b[0mloss\u001b[0m \u001b[0;34m=\u001b[0m \u001b[0mfloat\u001b[0m\u001b[0;34m(\u001b[0m\u001b[0morig_loss\u001b[0m\u001b[0;34m)\u001b[0m\u001b[0;34m\u001b[0m\u001b[0;34m\u001b[0m\u001b[0m\n\u001b[1;32m    313\u001b[0m         \u001b[0mcurrent_evals\u001b[0m \u001b[0;34m=\u001b[0m \u001b[0;36m1\u001b[0m\u001b[0;34m\u001b[0m\u001b[0;34m\u001b[0m\u001b[0m\n",
      "\u001b[0;32m~/anaconda3/lib/python3.8/site-packages/torch/autograd/grad_mode.py\u001b[0m in \u001b[0;36mdecorate_context\u001b[0;34m(*args, **kwargs)\u001b[0m\n\u001b[1;32m     26\u001b[0m         \u001b[0;32mdef\u001b[0m \u001b[0mdecorate_context\u001b[0m\u001b[0;34m(\u001b[0m\u001b[0;34m*\u001b[0m\u001b[0margs\u001b[0m\u001b[0;34m,\u001b[0m \u001b[0;34m**\u001b[0m\u001b[0mkwargs\u001b[0m\u001b[0;34m)\u001b[0m\u001b[0;34m:\u001b[0m\u001b[0;34m\u001b[0m\u001b[0;34m\u001b[0m\u001b[0m\n\u001b[1;32m     27\u001b[0m             \u001b[0;32mwith\u001b[0m \u001b[0mself\u001b[0m\u001b[0;34m.\u001b[0m\u001b[0m__class__\u001b[0m\u001b[0;34m(\u001b[0m\u001b[0;34m)\u001b[0m\u001b[0;34m:\u001b[0m\u001b[0;34m\u001b[0m\u001b[0;34m\u001b[0m\u001b[0m\n\u001b[0;32m---> 28\u001b[0;31m                 \u001b[0;32mreturn\u001b[0m \u001b[0mfunc\u001b[0m\u001b[0;34m(\u001b[0m\u001b[0;34m*\u001b[0m\u001b[0margs\u001b[0m\u001b[0;34m,\u001b[0m \u001b[0;34m**\u001b[0m\u001b[0mkwargs\u001b[0m\u001b[0;34m)\u001b[0m\u001b[0;34m\u001b[0m\u001b[0;34m\u001b[0m\u001b[0m\n\u001b[0m\u001b[1;32m     29\u001b[0m         \u001b[0;32mreturn\u001b[0m \u001b[0mcast\u001b[0m\u001b[0;34m(\u001b[0m\u001b[0mF\u001b[0m\u001b[0;34m,\u001b[0m \u001b[0mdecorate_context\u001b[0m\u001b[0;34m)\u001b[0m\u001b[0;34m\u001b[0m\u001b[0;34m\u001b[0m\u001b[0m\n\u001b[1;32m     30\u001b[0m \u001b[0;34m\u001b[0m\u001b[0m\n",
      "\u001b[0;32m<ipython-input-124-115a032c42de>\u001b[0m in \u001b[0;36mclosure\u001b[0;34m()\u001b[0m\n\u001b[1;32m     17\u001b[0m                 \u001b[0mu_pred_\u001b[0m \u001b[0;34m=\u001b[0m \u001b[0mmodel\u001b[0m\u001b[0;34m(\u001b[0m\u001b[0mx_train_\u001b[0m\u001b[0;34m)\u001b[0m\u001b[0;34m\u001b[0m\u001b[0;34m\u001b[0m\u001b[0m\n\u001b[1;32m     18\u001b[0m                 \u001b[0;31m# Item 1. below\u001b[0m\u001b[0;34m\u001b[0m\u001b[0;34m\u001b[0m\u001b[0;34m\u001b[0m\u001b[0m\n\u001b[0;32m---> 19\u001b[0;31m                 \u001b[0mloss\u001b[0m \u001b[0;34m=\u001b[0m \u001b[0mtorch\u001b[0m\u001b[0;34m.\u001b[0m\u001b[0mmean\u001b[0m\u001b[0;34m(\u001b[0m\u001b[0mtorch\u001b[0m\u001b[0;34m.\u001b[0m\u001b[0mabs\u001b[0m\u001b[0;34m(\u001b[0m\u001b[0;34m(\u001b[0m\u001b[0mu_pred_\u001b[0m\u001b[0;34m.\u001b[0m\u001b[0mreshape\u001b[0m\u001b[0;34m(\u001b[0m\u001b[0;34m-\u001b[0m\u001b[0;36m1\u001b[0m\u001b[0;34m,\u001b[0m \u001b[0;34m)\u001b[0m \u001b[0;34m-\u001b[0m \u001b[0mu_train_\u001b[0m\u001b[0;34m.\u001b[0m\u001b[0mreshape\u001b[0m\u001b[0;34m(\u001b[0m\u001b[0;34m-\u001b[0m\u001b[0;36m1\u001b[0m\u001b[0;34m,\u001b[0m \u001b[0;34m)\u001b[0m\u001b[0;34m)\u001b[0m\u001b[0;34m)\u001b[0m\u001b[0;34m**\u001b[0m\u001b[0mp\u001b[0m\u001b[0;34m)\u001b[0m\u001b[0;34m+\u001b[0m\u001b[0mtorch\u001b[0m\u001b[0;34m.\u001b[0m\u001b[0mnorm\u001b[0m\u001b[0;34m(\u001b[0m\u001b[0mmy_network\u001b[0m\u001b[0;34m.\u001b[0m\u001b[0mparameters\u001b[0m\u001b[0;34m(\u001b[0m\u001b[0;34m)\u001b[0m\u001b[0;34m,\u001b[0m\u001b[0mp\u001b[0m\u001b[0;34m=\u001b[0m\u001b[0mq\u001b[0m\u001b[0;34m)\u001b[0m\u001b[0;34m\u001b[0m\u001b[0;34m\u001b[0m\u001b[0m\n\u001b[0m\u001b[1;32m     20\u001b[0m                 \u001b[0;31m# Item 2. below\u001b[0m\u001b[0;34m\u001b[0m\u001b[0;34m\u001b[0m\u001b[0;34m\u001b[0m\u001b[0m\n\u001b[1;32m     21\u001b[0m                 \u001b[0mloss\u001b[0m\u001b[0;34m.\u001b[0m\u001b[0mbackward\u001b[0m\u001b[0;34m(\u001b[0m\u001b[0;34m)\u001b[0m\u001b[0;34m\u001b[0m\u001b[0;34m\u001b[0m\u001b[0m\n",
      "\u001b[0;32m~/anaconda3/lib/python3.8/site-packages/torch/functional.py\u001b[0m in \u001b[0;36mnorm\u001b[0;34m(input, p, dim, keepdim, out, dtype)\u001b[0m\n\u001b[1;32m   1301\u001b[0m             norm, (input,), input, p=p, dim=dim, keepdim=keepdim, out=out, dtype=dtype)\n\u001b[1;32m   1302\u001b[0m \u001b[0;34m\u001b[0m\u001b[0m\n\u001b[0;32m-> 1303\u001b[0;31m     \u001b[0mndim\u001b[0m \u001b[0;34m=\u001b[0m \u001b[0minput\u001b[0m\u001b[0;34m.\u001b[0m\u001b[0mdim\u001b[0m\u001b[0;34m(\u001b[0m\u001b[0;34m)\u001b[0m\u001b[0;34m\u001b[0m\u001b[0;34m\u001b[0m\u001b[0m\n\u001b[0m\u001b[1;32m   1304\u001b[0m \u001b[0;34m\u001b[0m\u001b[0m\n\u001b[1;32m   1305\u001b[0m     \u001b[0;31m# catch default case\u001b[0m\u001b[0;34m\u001b[0m\u001b[0;34m\u001b[0m\u001b[0;34m\u001b[0m\u001b[0m\n",
      "\u001b[0;31mAttributeError\u001b[0m: 'generator' object has no attribute 'dim'"
     ]
    }
   ],
   "metadata": {
    "tags": [
     "outputPrepend"
    ]
   }
  },
  {
   "cell_type": "markdown",
   "source": [
    "$\\mathbf{\\text{Step 3: Model Evaluation}}$"
   ],
   "metadata": {}
  },
  {
   "cell_type": "code",
   "execution_count": null,
   "source": [
    "plt.grid(True, which=\"both\", ls=\":\")\n",
    "plt.plot(np.arange(1,n_epochs+1), np.log10(history), label=\"Train Loss\")\n",
    "plt.legend()"
   ],
   "outputs": [
    {
     "output_type": "execute_result",
     "data": {
      "text/plain": [
       "<matplotlib.legend.Legend at 0x7f273f358460>"
      ]
     },
     "metadata": {},
     "execution_count": 115
    },
    {
     "output_type": "display_data",
     "data": {
      "image/png": "[encoded data removed]",
      "text/plain": [
       "<Figure size 432x288 with 1 Axes>"
      ]
     },
     "metadata": {
      "needs_background": "light"
     }
    }
   ],
   "metadata": {
    "scrolled": true
   }
  },
  {
   "cell_type": "code",
   "execution_count": null,
   "source": [
    "x_test = torch.linspace(0, 2*np.pi, 10000).reshape(-1,1)\n",
    "y_test = exact_solution(x_test).reshape(-1,)"
   ],
   "outputs": [],
   "metadata": {}
  },
  {
   "cell_type": "code",
   "execution_count": null,
   "source": [
    "y_test_pred = my_network(x_test).reshape(-1,)"
   ],
   "outputs": [],
   "metadata": {}
  },
  {
   "cell_type": "code",
   "execution_count": null,
   "source": [
    "plt.grid(True, which=\"both\", ls=\":\")\n",
    "plt.scatter(x, y, label=\"Training Data\", marker=\"o\", color=\"grey\")\n",
    "plt.plot(x_test, y_test, label=\"Ground Truth\",lw=2)\n",
    "plt.plot(x_test, y_test_pred.detach(), label=\"Network Prediction\",lw=2)\n",
    "plt.xlabel(\"x\")\n",
    "plt.ylabel(\"u\")\n",
    "plt.legend()"
   ],
   "outputs": [
    {
     "output_type": "execute_result",
     "data": {
      "text/plain": [
       "<matplotlib.legend.Legend at 0x7f273f4d2970>"
      ]
     },
     "metadata": {},
     "execution_count": 112
    },
    {
     "output_type": "display_data",
     "data": {
      "image/png": "[encoded data removed]",
      "text/plain": [
       "<Figure size 432x288 with 1 Axes>"
      ]
     },
     "metadata": {
      "needs_background": "light"
     }
    }
   ],
   "metadata": {}
  },
  {
   "cell_type": "code",
   "execution_count": null,
   "source": [
    "# Compute the relative L2 error norm (generalization error)\n",
    "relative_error_test = torch.mean((y_test_pred - y_test)**2)/torch.mean(y_test**2)\n",
    "print(\"Relative Error Test: \", relative_error_test.detach().numpy()*100, \"%\")"
   ],
   "outputs": [
    {
     "output_type": "stream",
     "name": "stdout",
     "text": [
      "Relative Error Test:  0.00013454417739922064 %\n"
     ]
    }
   ],
   "metadata": {}
  },
  {
   "cell_type": "markdown",
   "source": [
    "### Exercises\n",
    "1. The model training is particularly sensitive to the initialization of the weights, as different initial values of the weights can lead to different local minima. This is governed by the parameter $retrain$. Try to change the value $retrain$ and test it by yourself.\n",
    "\n",
    "2. Try to use the mean absolute error loss $J(\\theta) = \\sum_{i}^n \\big|u_i - u_\\theta(x_i)\\big|$.\n",
    "\n",
    "3. The resulting geenralization capability of the model also depends on the number of training samples $n_{samples}$ and the data noise $\\sigma$. Train the model for $\\sigma=0, 0.25$ and $n_{samples}=20, 50, 100, 200$. \n",
    "\n",
    "4. For high values of $\\sigma$ and low values of $n_{samples}$ the data overfitting occurs and the generalization capability of the model deteriorates. A common approach to prevent overfitting is to add regularization, i.e. we seek to find,\n",
    "\n",
    "    $$\n",
    "    \\label{eq:lf2}\n",
    "    \\theta^{\\ast} = {\\rm arg}\\min\\limits_{\\theta \\in \\Theta} \\left(J(\\theta) + \\lambda_{reg} J_{reg}(\\theta) \\right).\n",
    "    $$\n",
    "    Here, $J_{reg}:\\Theta \\to R$ is a {regularization} (penalization) term. A popular choice is to set  $J_{reg}(\\theta) = \\|\\theta\\|^q_q$ for either $q=1$ (to induce sparsity) or $q=2$. The parameter $0 \\leq \\lambda_{reg} \\ll 1$ balances the regularization term with the actual loss $J$.\n",
    "    \n",
    "    $L^2$-penalty can be added by adjusting the optimizer argument weight_decay (check https://pytorch.org/docs/stable/optim.html). One additional alternative is to use the following function\n",
    "    ```python\n",
    "    def regularization(model, order):\n",
    "        reg_loss = 0\n",
    "        for name, param in model.named_parameters():\n",
    "            if 'weight' in name or 'bias' in name:\n",
    "                reg_loss = reg_loss + torch.norm(param, order)\n",
    "        return reg_loss\n",
    "    ```\n",
    "    that returns the term $J_{reg}(\\theta)$. Try to improve the training results for $\\sigma=0.25$ and $n_{samples}=20$ by using weight regularization"
   ],
   "metadata": {}
  }
 ],
 "metadata": {
  "kernelspec": {
   "name": "python3",
   "display_name": "Python 3.8.8 64-bit ('base': conda)"
  },
  "language_info": {
   "codemirror_mode": {
    "name": "ipython",
    "version": 3
   },
   "file_extension": ".py",
   "mimetype": "text/x-python",
   "name": "python",
   "nbconvert_exporter": "python",
   "pygments_lexer": "ipython3",
   "version": "3.8.8"
  },
  "interpreter": {
   "hash": "2d07a838e9fe40b82208ed7f0093f57ac201fefe2963aa6b01eb775880b4ba46"
  }
 },
 "nbformat": 4,
 "nbformat_minor": 4
}